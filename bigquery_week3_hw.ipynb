{
 "cells": [
  {
   "cell_type": "code",
   "execution_count": 2,
   "metadata": {},
   "outputs": [
    {
     "name": "stdout",
     "output_type": "stream",
     "text": [
      "Setup Complete\n"
     ]
    }
   ],
   "source": [
    "#imports\n",
    "import pandas as pd\n",
    "from google.cloud import bigquery\n",
    "from time import time\n",
    "import os\n",
    "os.environ['GOOGLE_APPLICATION_CREDENTIALS'] = \"/Users/reneboygarcia/Library/CloudStorage/GoogleDrive-reneboygarcia@gmail.com/My Drive/Personal/Data Science Notebook/Data Engineering/week_3_data_warehouse/GOOGLE_APPLICATION_CREDENTIALS.json\"\n",
    "print(\"Setup Complete\")"
   ]
  },
  {
   "cell_type": "code",
   "execution_count": 4,
   "metadata": {},
   "outputs": [
    {
     "data": {
      "text/html": [
       "<div>\n",
       "<style scoped>\n",
       "    .dataframe tbody tr th:only-of-type {\n",
       "        vertical-align: middle;\n",
       "    }\n",
       "\n",
       "    .dataframe tbody tr th {\n",
       "        vertical-align: top;\n",
       "    }\n",
       "\n",
       "    .dataframe thead th {\n",
       "        text-align: right;\n",
       "    }\n",
       "</style>\n",
       "<table border=\"1\" class=\"dataframe\">\n",
       "  <thead>\n",
       "    <tr style=\"text-align: right;\">\n",
       "      <th></th>\n",
       "      <th>VendorID</th>\n",
       "      <th>lpep_pickup_datetime</th>\n",
       "      <th>lpep_dropoff_datetime</th>\n",
       "      <th>store_and_fwd_flag</th>\n",
       "      <th>RatecodeID</th>\n",
       "      <th>PULocationID</th>\n",
       "      <th>DOLocationID</th>\n",
       "      <th>passenger_count</th>\n",
       "      <th>trip_distance</th>\n",
       "      <th>fare_amount</th>\n",
       "      <th>extra</th>\n",
       "      <th>mta_tax</th>\n",
       "      <th>tip_amount</th>\n",
       "      <th>tolls_amount</th>\n",
       "      <th>ehail_fee</th>\n",
       "      <th>improvement_surcharge</th>\n",
       "      <th>total_amount</th>\n",
       "      <th>payment_type</th>\n",
       "      <th>trip_type</th>\n",
       "      <th>congestion_surcharge</th>\n",
       "    </tr>\n",
       "  </thead>\n",
       "  <tbody>\n",
       "    <tr>\n",
       "      <th>0</th>\n",
       "      <td>2</td>\n",
       "      <td>2019-11-01 00:04:42+00:00</td>\n",
       "      <td>2019-11-01 00:13:53+00:00</td>\n",
       "      <td>N</td>\n",
       "      <td>1.0</td>\n",
       "      <td>95</td>\n",
       "      <td>196</td>\n",
       "      <td>1.0</td>\n",
       "      <td>1.51</td>\n",
       "      <td>0.0</td>\n",
       "      <td>0.0</td>\n",
       "      <td>0.0</td>\n",
       "      <td>0.0</td>\n",
       "      <td>0.0</td>\n",
       "      <td>&lt;NA&gt;</td>\n",
       "      <td>0.0</td>\n",
       "      <td>0.0</td>\n",
       "      <td>2.0</td>\n",
       "      <td>1.0</td>\n",
       "      <td>0.0</td>\n",
       "    </tr>\n",
       "    <tr>\n",
       "      <th>1</th>\n",
       "      <td>2</td>\n",
       "      <td>2019-11-01 00:43:35+00:00</td>\n",
       "      <td>2019-11-01 00:43:39+00:00</td>\n",
       "      <td>N</td>\n",
       "      <td>1.0</td>\n",
       "      <td>193</td>\n",
       "      <td>7</td>\n",
       "      <td>1.0</td>\n",
       "      <td>0.00</td>\n",
       "      <td>0.0</td>\n",
       "      <td>0.0</td>\n",
       "      <td>0.0</td>\n",
       "      <td>0.0</td>\n",
       "      <td>0.0</td>\n",
       "      <td>&lt;NA&gt;</td>\n",
       "      <td>0.0</td>\n",
       "      <td>0.0</td>\n",
       "      <td>2.0</td>\n",
       "      <td>1.0</td>\n",
       "      <td>0.0</td>\n",
       "    </tr>\n",
       "    <tr>\n",
       "      <th>2</th>\n",
       "      <td>1</td>\n",
       "      <td>2019-11-01 03:10:58+00:00</td>\n",
       "      <td>2019-11-01 03:13:59+00:00</td>\n",
       "      <td>N</td>\n",
       "      <td>5.0</td>\n",
       "      <td>129</td>\n",
       "      <td>129</td>\n",
       "      <td>1.0</td>\n",
       "      <td>0.70</td>\n",
       "      <td>0.0</td>\n",
       "      <td>0.0</td>\n",
       "      <td>0.0</td>\n",
       "      <td>0.0</td>\n",
       "      <td>0.0</td>\n",
       "      <td>&lt;NA&gt;</td>\n",
       "      <td>0.0</td>\n",
       "      <td>0.0</td>\n",
       "      <td>2.0</td>\n",
       "      <td>2.0</td>\n",
       "      <td>0.0</td>\n",
       "    </tr>\n",
       "    <tr>\n",
       "      <th>3</th>\n",
       "      <td>1</td>\n",
       "      <td>2019-11-01 03:46:32+00:00</td>\n",
       "      <td>2019-11-01 03:54:20+00:00</td>\n",
       "      <td>N</td>\n",
       "      <td>5.0</td>\n",
       "      <td>129</td>\n",
       "      <td>173</td>\n",
       "      <td>1.0</td>\n",
       "      <td>1.00</td>\n",
       "      <td>0.0</td>\n",
       "      <td>0.0</td>\n",
       "      <td>0.0</td>\n",
       "      <td>0.0</td>\n",
       "      <td>0.0</td>\n",
       "      <td>&lt;NA&gt;</td>\n",
       "      <td>0.0</td>\n",
       "      <td>0.0</td>\n",
       "      <td>2.0</td>\n",
       "      <td>2.0</td>\n",
       "      <td>0.0</td>\n",
       "    </tr>\n",
       "    <tr>\n",
       "      <th>4</th>\n",
       "      <td>1</td>\n",
       "      <td>2019-11-01 04:03:12+00:00</td>\n",
       "      <td>2019-11-01 04:07:50+00:00</td>\n",
       "      <td>N</td>\n",
       "      <td>5.0</td>\n",
       "      <td>129</td>\n",
       "      <td>129</td>\n",
       "      <td>1.0</td>\n",
       "      <td>0.60</td>\n",
       "      <td>0.0</td>\n",
       "      <td>0.0</td>\n",
       "      <td>0.0</td>\n",
       "      <td>0.0</td>\n",
       "      <td>0.0</td>\n",
       "      <td>&lt;NA&gt;</td>\n",
       "      <td>0.0</td>\n",
       "      <td>0.0</td>\n",
       "      <td>2.0</td>\n",
       "      <td>2.0</td>\n",
       "      <td>0.0</td>\n",
       "    </tr>\n",
       "  </tbody>\n",
       "</table>\n",
       "</div>"
      ],
      "text/plain": [
       "   VendorID      lpep_pickup_datetime     lpep_dropoff_datetime  \\\n",
       "0         2 2019-11-01 00:04:42+00:00 2019-11-01 00:13:53+00:00   \n",
       "1         2 2019-11-01 00:43:35+00:00 2019-11-01 00:43:39+00:00   \n",
       "2         1 2019-11-01 03:10:58+00:00 2019-11-01 03:13:59+00:00   \n",
       "3         1 2019-11-01 03:46:32+00:00 2019-11-01 03:54:20+00:00   \n",
       "4         1 2019-11-01 04:03:12+00:00 2019-11-01 04:07:50+00:00   \n",
       "\n",
       "  store_and_fwd_flag  RatecodeID  PULocationID  DOLocationID  passenger_count  \\\n",
       "0                  N         1.0            95           196              1.0   \n",
       "1                  N         1.0           193             7              1.0   \n",
       "2                  N         5.0           129           129              1.0   \n",
       "3                  N         5.0           129           173              1.0   \n",
       "4                  N         5.0           129           129              1.0   \n",
       "\n",
       "   trip_distance  fare_amount  extra  mta_tax  tip_amount  tolls_amount  \\\n",
       "0           1.51          0.0    0.0      0.0         0.0           0.0   \n",
       "1           0.00          0.0    0.0      0.0         0.0           0.0   \n",
       "2           0.70          0.0    0.0      0.0         0.0           0.0   \n",
       "3           1.00          0.0    0.0      0.0         0.0           0.0   \n",
       "4           0.60          0.0    0.0      0.0         0.0           0.0   \n",
       "\n",
       "   ehail_fee  improvement_surcharge  total_amount  payment_type  trip_type  \\\n",
       "0       <NA>                    0.0           0.0           2.0        1.0   \n",
       "1       <NA>                    0.0           0.0           2.0        1.0   \n",
       "2       <NA>                    0.0           0.0           2.0        2.0   \n",
       "3       <NA>                    0.0           0.0           2.0        2.0   \n",
       "4       <NA>                    0.0           0.0           2.0        2.0   \n",
       "\n",
       "   congestion_surcharge  \n",
       "0                   0.0  \n",
       "1                   0.0  \n",
       "2                   0.0  \n",
       "3                   0.0  \n",
       "4                   0.0  "
      ]
     },
     "execution_count": 4,
     "metadata": {},
     "output_type": "execute_result"
    }
   ],
   "source": [
    "#create a client\n",
    "client = bigquery.Client()\n",
    "# Construct a reference to the \"ny_taxi_bucket_de_2023\" dataset\n",
    "dataset_ref = client.dataset(dataset_id=\"ny_taxi\", project=\"dtc-de-2023\")\n",
    "# API request - fetch the dataset\n",
    "dataset = client.get_dataset(dataset_ref)\n",
    "#construct a table reference to \"green_tripdata_2019-11\"\n",
    "table_ref = dataset_ref.table('green_tripdata_2019-11')\n",
    "#API request\n",
    "table_green_taxi_trips = client.get_table(table_ref)\n",
    "#to dataframe\n",
    "df_yellow_taxi_trips = client.list_rows(table=table_green_taxi_trips, max_results=5).to_dataframe()\n",
    "df_yellow_taxi_trips.head()"
   ]
  },
  {
   "cell_type": "code",
   "execution_count": 59,
   "metadata": {},
   "outputs": [
    {
     "data": {
      "text/html": [
       "<div>\n",
       "<style scoped>\n",
       "    .dataframe tbody tr th:only-of-type {\n",
       "        vertical-align: middle;\n",
       "    }\n",
       "\n",
       "    .dataframe tbody tr th {\n",
       "        vertical-align: top;\n",
       "    }\n",
       "\n",
       "    .dataframe thead th {\n",
       "        text-align: right;\n",
       "    }\n",
       "</style>\n",
       "<table border=\"1\" class=\"dataframe\">\n",
       "  <thead>\n",
       "    <tr style=\"text-align: right;\">\n",
       "      <th></th>\n",
       "      <th>num_count</th>\n",
       "    </tr>\n",
       "  </thead>\n",
       "  <tbody>\n",
       "    <tr>\n",
       "      <th>0</th>\n",
       "      <td>24827</td>\n",
       "    </tr>\n",
       "  </tbody>\n",
       "</table>\n",
       "</div>"
      ],
      "text/plain": [
       "   num_count\n",
       "0      24827"
      ]
     },
     "execution_count": 59,
     "metadata": {},
     "output_type": "execute_result"
    }
   ],
   "source": [
    "# query\n",
    "query = \"\"\"\n",
    "        SELECT COUNT(1) as num_count\n",
    "        FROM `dtc-de-2023.prefect_de_2023_datasetid.yellow_ny_taxi_trips_table`\n",
    "        WHERE DATE(tpep_pickup_datetime) BETWEEN \"2021-01-01\" AND \"2021-01-01\"\n",
    "        LIMIT 100\n",
    "        \"\"\"\n",
    "        \n",
    "#limit results to 10GB=10**10\n",
    "safe_config = bigquery.QueryJobConfig(maximum_bytes_billed = 10**10)\n",
    "#query\n",
    "query_results = client.query(query, job_config=safe_config)\n",
    "#convert to dataframe\n",
    "df_query_results = query_results.to_dataframe()\n",
    "df_query_results.head()\n",
    "\n",
    "client.create_table()"
   ]
  },
  {
   "cell_type": "code",
   "execution_count": 60,
   "metadata": {},
   "outputs": [
    {
     "data": {
      "text/plain": [
       "(1, 1)"
      ]
     },
     "execution_count": 60,
     "metadata": {},
     "output_type": "execute_result"
    }
   ],
   "source": []
  },
  {
   "cell_type": "code",
   "execution_count": 22,
   "metadata": {},
   "outputs": [],
   "source": [
    "# amount of data scanned in GB\n",
    "def data_scanned(query):\n",
    "    dry_run_config = bigquery.QueryJobConfig(dry_run=True)\n",
    "    query_job_bytes = client.query(query, job_config=dry_run_config).total_bytes_processed\n",
    "    print(f'Data processed: {round(query_job_bytes / 10**9, 3)} GB')\n",
    "\n",
    "def runtime(query):\n",
    "    time_config = bigquery.QueryJobConfig(use_query_cache=False)\n",
    "    start = time()\n",
    "    query_result = client.query(query, job_config=time_config).result()\n",
    "    end = time()\n",
    "    print(f'Runtime is: {round(end-start, 3)} seconds')"
   ]
  },
  {
   "cell_type": "code",
   "execution_count": 23,
   "metadata": {},
   "outputs": [
    {
     "name": "stdout",
     "output_type": "stream",
     "text": [
      "Data processed: 0.011 GB\n",
      "Runtime is: 1.568 seconds\n"
     ]
    }
   ],
   "source": [
    "data_scanned(query=query)\n",
    "runtime(query=query)"
   ]
  },
  {
   "cell_type": "code",
   "execution_count": null,
   "metadata": {},
   "outputs": [],
   "source": [
    "# Construct a reference to the \"prefect_de_2023\" dataset\n",
    "dataset_ref_gcs = bigquery.DatasetReference(project=\"dtc-de-2023\", dataset_id=\"prefect-de-2023\")\n",
    "# construct a table reference to \"green_tripdata_2019-04\"\n",
    "table_ref_gcs = dataset_ref_gcs.table(\"green_tripdata_2020-01\")\n",
    "# API request\n",
    "green_ny_taxi_trips_table = bigquery.Table(table_ref_gcs)\n",
    "external_config = bigquery.ExternalConfig(\"PARQUET\")\n",
    "external_config.source_uris = [\"gs://prefect-de-2023/data/green/green_tripdata_2020-01.parquet\"]\n",
    "# green_ny_taxi_trips_table.external_data_configuration = external_config\n",
    "\n",
    "# Create a permanent table linked to GCS file\n",
    "table = client.create_table(table=green_ny_taxi_trips_table, )\n",
    "# to DataFrame\n",
    "df_green_ny_taxi_trips = client.list_rows(table=table, max_results=5).to_dataframe()\n",
    "df_green_ny_taxi_trips.head()\n",
    "\n",
    "# 404 POST https://bigquery.googleapis.com/bigquery/v2/projects/dtc-de-2023/datasets/prefect-de-2023/tables?prettyPrint=false: Not found: Dataset dtc-de-2023:prefect-de-2023"
   ]
  },
  {
   "cell_type": "code",
   "execution_count": null,
   "metadata": {},
   "outputs": [],
   "source": [
    "#create a client\n",
    "client = bigquery.Client()\n",
    "# Construct a reference to the \"prefect_de_2023_datasetid\" dataset\n",
    "dataset_ref = client.dataset(\"prefect_de_2023_datasetid\", project=\"dtc-de-2023\")\n",
    "# API request - fetch the dataset\n",
    "dataset = client.get_dataset(dataset_ref)\n",
    "# construct a table reference to \"yellow_ny_taxi_trips_table\"\n",
    "table_ref = dataset_ref.table('yellow_ny_taxi_trips_table')\n",
    "#API request\n",
    "table_yellow_taxi_trips = client.get_table(table_ref)\n",
    "#to dataframe\n",
    "df_yellow_taxi_trips = client.list_rows(table=table_yellow_taxi_trips, max_results=5).to_dataframe()\n",
    "df_yellow_taxi_trips.head()"
   ]
  },
  {
   "cell_type": "code",
   "execution_count": 57,
   "metadata": {},
   "outputs": [
    {
     "name": "stderr",
     "output_type": "stream",
     "text": [
      "/opt/homebrew/Caskroom/miniforge/base/lib/python3.9/site-packages/prefect/flows.py:206: UserWarning: A flow named 'example-cloud-storage-download-blob-flow' and defined at '/var/folders/h2/6110hgtx6b7400ybw7yjhn400000gn/T/ipykernel_71701/1514260246.py:6' conflicts with another flow. Consider specifying a unique `name` parameter in the flow definition:\n",
      "\n",
      " `@flow(name='my_unique_name', ...)`\n",
      "  warnings.warn(\n"
     ]
    },
    {
     "data": {
      "text/html": [
       "<pre style=\"white-space:pre;overflow-x:auto;line-height:normal;font-family:Menlo,'DejaVu Sans Mono',consolas,'Courier New',monospace\">11:58:25.619 | <span style=\"color: #008080; text-decoration-color: #008080\">INFO</span>    | prefect.engine - Created flow run<span style=\"color: #800080; text-decoration-color: #800080\"> 'authentic-otter'</span> for flow<span style=\"color: #800080; text-decoration-color: #800080; font-weight: bold\"> 'example-cloud-storage-download-blob-flow'</span>\n",
       "</pre>\n"
      ],
      "text/plain": [
       "11:58:25.619 | \u001b[36mINFO\u001b[0m    | prefect.engine - Created flow run\u001b[35m 'authentic-otter'\u001b[0m for flow\u001b[1;35m 'example-cloud-storage-download-blob-flow'\u001b[0m\n"
      ]
     },
     "metadata": {},
     "output_type": "display_data"
    },
    {
     "data": {
      "text/html": [
       "<pre style=\"white-space:pre;overflow-x:auto;line-height:normal;font-family:Menlo,'DejaVu Sans Mono',consolas,'Courier New',monospace\">11:58:28.950 | <span style=\"color: #008080; text-decoration-color: #008080\">INFO</span>    | Flow run<span style=\"color: #800080; text-decoration-color: #800080\"> 'authentic-otter'</span> - Created task run 'cloud_storage_download_blob_to_file-7cd7d622-0' for task 'cloud_storage_download_blob_to_file'\n",
       "</pre>\n"
      ],
      "text/plain": [
       "11:58:28.950 | \u001b[36mINFO\u001b[0m    | Flow run\u001b[35m 'authentic-otter'\u001b[0m - Created task run 'cloud_storage_download_blob_to_file-7cd7d622-0' for task 'cloud_storage_download_blob_to_file'\n"
      ]
     },
     "metadata": {},
     "output_type": "display_data"
    },
    {
     "data": {
      "text/html": [
       "<pre style=\"white-space:pre;overflow-x:auto;line-height:normal;font-family:Menlo,'DejaVu Sans Mono',consolas,'Courier New',monospace\">11:58:28.952 | <span style=\"color: #008080; text-decoration-color: #008080\">INFO</span>    | Flow run<span style=\"color: #800080; text-decoration-color: #800080\"> 'authentic-otter'</span> - Executing 'cloud_storage_download_blob_to_file-7cd7d622-0' immediately...\n",
       "</pre>\n"
      ],
      "text/plain": [
       "11:58:28.952 | \u001b[36mINFO\u001b[0m    | Flow run\u001b[35m 'authentic-otter'\u001b[0m - Executing 'cloud_storage_download_blob_to_file-7cd7d622-0' immediately...\n"
      ]
     },
     "metadata": {},
     "output_type": "display_data"
    },
    {
     "data": {
      "text/html": [
       "<pre style=\"white-space:pre;overflow-x:auto;line-height:normal;font-family:Menlo,'DejaVu Sans Mono',consolas,'Courier New',monospace\">11:58:30.221 | <span style=\"color: #008080; text-decoration-color: #008080\">INFO</span>    | Task run 'cloud_storage_download_blob_to_file-7cd7d622-0' - Downloading blob named green/green_tripdata_2019-11.parquet from the ny_taxi_bucket_de_2023 bucket to week3_hw\n",
       "</pre>\n"
      ],
      "text/plain": [
       "11:58:30.221 | \u001b[36mINFO\u001b[0m    | Task run 'cloud_storage_download_blob_to_file-7cd7d622-0' - Downloading blob named green/green_tripdata_2019-11.parquet from the ny_taxi_bucket_de_2023 bucket to week3_hw\n"
      ]
     },
     "metadata": {},
     "output_type": "display_data"
    },
    {
     "data": {
      "text/html": [
       "<pre style=\"white-space:pre;overflow-x:auto;line-height:normal;font-family:Menlo,'DejaVu Sans Mono',consolas,'Courier New',monospace\">11:58:38.717 | <span style=\"color: #008080; text-decoration-color: #008080\">INFO</span>    | Task run 'cloud_storage_download_blob_to_file-7cd7d622-0' - Finished in state <span style=\"color: #008000; text-decoration-color: #008000\">Completed</span>()\n",
       "</pre>\n"
      ],
      "text/plain": [
       "11:58:38.717 | \u001b[36mINFO\u001b[0m    | Task run 'cloud_storage_download_blob_to_file-7cd7d622-0' - Finished in state \u001b[32mCompleted\u001b[0m()\n"
      ]
     },
     "metadata": {},
     "output_type": "display_data"
    },
    {
     "data": {
      "text/html": [
       "<pre style=\"white-space:pre;overflow-x:auto;line-height:normal;font-family:Menlo,'DejaVu Sans Mono',consolas,'Courier New',monospace\">11:58:39.077 | <span style=\"color: #008080; text-decoration-color: #008080\">INFO</span>    | Flow run<span style=\"color: #800080; text-decoration-color: #800080\"> 'authentic-otter'</span> - Finished in state <span style=\"color: #008000; text-decoration-color: #008000\">Completed</span>()\n",
       "</pre>\n"
      ],
      "text/plain": [
       "11:58:39.077 | \u001b[36mINFO\u001b[0m    | Flow run\u001b[35m 'authentic-otter'\u001b[0m - Finished in state \u001b[32mCompleted\u001b[0m()\n"
      ]
     },
     "metadata": {},
     "output_type": "display_data"
    },
    {
     "data": {
      "text/plain": [
       "PosixPath('week3_hw/green/green_tripdata_2019-11.parquet')"
      ]
     },
     "execution_count": 57,
     "metadata": {},
     "output_type": "execute_result"
    }
   ],
   "source": [
    "# Downloads a blob to a file path.\n",
    "from prefect import flow\n",
    "from prefect_gcp import GcpCredentials\n",
    "from prefect_gcp.cloud_storage import cloud_storage_download_blob_to_file\n",
    "from pathlib import Path\n",
    "@flow\n",
    "def example_cloud_storage_download_blob_flow():\n",
    "    gcp_credentials = GcpCredentials.load(\"ny-taxi-gcp-creds\")  # inferred from env, or set service_account_file\n",
    "    contents = cloud_storage_download_blob_to_file(bucket=\"ny_taxi_bucket_de_2023\", blob=\"green/green_tripdata_2019-11.parquet\", gcp_credentials=gcp_credentials, path=Path(\"./week3_hw\"))\n",
    "    return contents\n",
    "\n",
    "example_cloud_storage_download_blob_flow()"
   ]
  },
  {
   "cell_type": "code",
   "execution_count": 122,
   "metadata": {},
   "outputs": [],
   "source": [
    "# read data from the web into Dataframe\n",
    "from pathlib import Path\n",
    "import urllib.request\n",
    "\n",
    "dataset_url = (\n",
    "        f\"https://d37ci6vzurychx.cloudfront.net/trip-data/yellow_tripdata_2020-04.parquet\"\n",
    "    )\n",
    "\n",
    "def fetch(dataset_url):\n",
    "    filename, _ = urllib.request.urlretrieve(dataset_url)\n",
    "    return filename\n"
   ]
  },
  {
   "cell_type": "code",
   "execution_count": 123,
   "metadata": {},
   "outputs": [
    {
     "data": {
      "text/plain": [
       "'/var/folders/h2/6110hgtx6b7400ybw7yjhn400000gn/T/tmpk_dytf59'"
      ]
     },
     "execution_count": 123,
     "metadata": {},
     "output_type": "execute_result"
    }
   ],
   "source": [
    "fetch(dataset_url)"
   ]
  },
  {
   "cell_type": "code",
   "execution_count": 125,
   "metadata": {},
   "outputs": [
    {
     "name": "stdout",
     "output_type": "stream",
     "text": [
      "Number of rows: 238073\n"
     ]
    },
    {
     "data": {
      "text/html": [
       "<div>\n",
       "<style scoped>\n",
       "    .dataframe tbody tr th:only-of-type {\n",
       "        vertical-align: middle;\n",
       "    }\n",
       "\n",
       "    .dataframe tbody tr th {\n",
       "        vertical-align: top;\n",
       "    }\n",
       "\n",
       "    .dataframe thead th {\n",
       "        text-align: right;\n",
       "    }\n",
       "</style>\n",
       "<table border=\"1\" class=\"dataframe\">\n",
       "  <thead>\n",
       "    <tr style=\"text-align: right;\">\n",
       "      <th></th>\n",
       "      <th>VendorID</th>\n",
       "      <th>tpep_pickup_datetime</th>\n",
       "      <th>tpep_dropoff_datetime</th>\n",
       "      <th>passenger_count</th>\n",
       "      <th>trip_distance</th>\n",
       "      <th>RatecodeID</th>\n",
       "      <th>store_and_fwd_flag</th>\n",
       "      <th>PULocationID</th>\n",
       "      <th>DOLocationID</th>\n",
       "      <th>payment_type</th>\n",
       "      <th>fare_amount</th>\n",
       "      <th>extra</th>\n",
       "      <th>mta_tax</th>\n",
       "      <th>tip_amount</th>\n",
       "      <th>tolls_amount</th>\n",
       "      <th>improvement_surcharge</th>\n",
       "      <th>total_amount</th>\n",
       "      <th>congestion_surcharge</th>\n",
       "      <th>airport_fee</th>\n",
       "    </tr>\n",
       "  </thead>\n",
       "  <tbody>\n",
       "    <tr>\n",
       "      <th>0</th>\n",
       "      <td>1</td>\n",
       "      <td>2020-04-01 00:41:22</td>\n",
       "      <td>2020-04-01 01:01:53</td>\n",
       "      <td>1.0</td>\n",
       "      <td>1.20</td>\n",
       "      <td>1.0</td>\n",
       "      <td>N</td>\n",
       "      <td>41</td>\n",
       "      <td>24</td>\n",
       "      <td>2</td>\n",
       "      <td>5.50</td>\n",
       "      <td>0.5</td>\n",
       "      <td>0.5</td>\n",
       "      <td>0.00</td>\n",
       "      <td>0.00</td>\n",
       "      <td>0.3</td>\n",
       "      <td>6.80</td>\n",
       "      <td>0.0</td>\n",
       "      <td>None</td>\n",
       "    </tr>\n",
       "    <tr>\n",
       "      <th>1</th>\n",
       "      <td>1</td>\n",
       "      <td>2020-04-01 00:56:00</td>\n",
       "      <td>2020-04-01 01:09:25</td>\n",
       "      <td>1.0</td>\n",
       "      <td>3.40</td>\n",
       "      <td>1.0</td>\n",
       "      <td>N</td>\n",
       "      <td>95</td>\n",
       "      <td>197</td>\n",
       "      <td>1</td>\n",
       "      <td>12.50</td>\n",
       "      <td>0.5</td>\n",
       "      <td>0.5</td>\n",
       "      <td>2.75</td>\n",
       "      <td>0.00</td>\n",
       "      <td>0.3</td>\n",
       "      <td>16.55</td>\n",
       "      <td>0.0</td>\n",
       "      <td>None</td>\n",
       "    </tr>\n",
       "    <tr>\n",
       "      <th>2</th>\n",
       "      <td>1</td>\n",
       "      <td>2020-04-01 00:00:26</td>\n",
       "      <td>2020-04-01 00:09:25</td>\n",
       "      <td>1.0</td>\n",
       "      <td>2.80</td>\n",
       "      <td>1.0</td>\n",
       "      <td>N</td>\n",
       "      <td>237</td>\n",
       "      <td>137</td>\n",
       "      <td>1</td>\n",
       "      <td>10.00</td>\n",
       "      <td>3.0</td>\n",
       "      <td>0.5</td>\n",
       "      <td>1.00</td>\n",
       "      <td>0.00</td>\n",
       "      <td>0.3</td>\n",
       "      <td>14.80</td>\n",
       "      <td>2.5</td>\n",
       "      <td>None</td>\n",
       "    </tr>\n",
       "    <tr>\n",
       "      <th>3</th>\n",
       "      <td>1</td>\n",
       "      <td>2020-04-01 00:24:38</td>\n",
       "      <td>2020-04-01 00:34:38</td>\n",
       "      <td>0.0</td>\n",
       "      <td>2.60</td>\n",
       "      <td>1.0</td>\n",
       "      <td>N</td>\n",
       "      <td>68</td>\n",
       "      <td>142</td>\n",
       "      <td>1</td>\n",
       "      <td>10.00</td>\n",
       "      <td>3.0</td>\n",
       "      <td>0.5</td>\n",
       "      <td>1.00</td>\n",
       "      <td>0.00</td>\n",
       "      <td>0.3</td>\n",
       "      <td>14.80</td>\n",
       "      <td>2.5</td>\n",
       "      <td>None</td>\n",
       "    </tr>\n",
       "    <tr>\n",
       "      <th>4</th>\n",
       "      <td>2</td>\n",
       "      <td>2020-04-01 00:13:24</td>\n",
       "      <td>2020-04-01 00:18:26</td>\n",
       "      <td>1.0</td>\n",
       "      <td>1.44</td>\n",
       "      <td>1.0</td>\n",
       "      <td>Y</td>\n",
       "      <td>263</td>\n",
       "      <td>74</td>\n",
       "      <td>1</td>\n",
       "      <td>6.50</td>\n",
       "      <td>0.5</td>\n",
       "      <td>0.5</td>\n",
       "      <td>3.00</td>\n",
       "      <td>0.00</td>\n",
       "      <td>0.3</td>\n",
       "      <td>13.30</td>\n",
       "      <td>2.5</td>\n",
       "      <td>None</td>\n",
       "    </tr>\n",
       "    <tr>\n",
       "      <th>...</th>\n",
       "      <td>...</td>\n",
       "      <td>...</td>\n",
       "      <td>...</td>\n",
       "      <td>...</td>\n",
       "      <td>...</td>\n",
       "      <td>...</td>\n",
       "      <td>...</td>\n",
       "      <td>...</td>\n",
       "      <td>...</td>\n",
       "      <td>...</td>\n",
       "      <td>...</td>\n",
       "      <td>...</td>\n",
       "      <td>...</td>\n",
       "      <td>...</td>\n",
       "      <td>...</td>\n",
       "      <td>...</td>\n",
       "      <td>...</td>\n",
       "      <td>...</td>\n",
       "      <td>...</td>\n",
       "    </tr>\n",
       "    <tr>\n",
       "      <th>238068</th>\n",
       "      <td>2</td>\n",
       "      <td>2020-04-30 23:30:00</td>\n",
       "      <td>2020-04-30 23:39:00</td>\n",
       "      <td>NaN</td>\n",
       "      <td>2.02</td>\n",
       "      <td>NaN</td>\n",
       "      <td>None</td>\n",
       "      <td>238</td>\n",
       "      <td>75</td>\n",
       "      <td>0</td>\n",
       "      <td>8.46</td>\n",
       "      <td>0.0</td>\n",
       "      <td>0.5</td>\n",
       "      <td>0.00</td>\n",
       "      <td>0.00</td>\n",
       "      <td>0.3</td>\n",
       "      <td>11.76</td>\n",
       "      <td>NaN</td>\n",
       "      <td>None</td>\n",
       "    </tr>\n",
       "    <tr>\n",
       "      <th>238069</th>\n",
       "      <td>2</td>\n",
       "      <td>2020-04-30 23:44:00</td>\n",
       "      <td>2020-04-30 23:54:00</td>\n",
       "      <td>NaN</td>\n",
       "      <td>3.30</td>\n",
       "      <td>NaN</td>\n",
       "      <td>None</td>\n",
       "      <td>263</td>\n",
       "      <td>230</td>\n",
       "      <td>0</td>\n",
       "      <td>13.46</td>\n",
       "      <td>0.0</td>\n",
       "      <td>0.5</td>\n",
       "      <td>0.00</td>\n",
       "      <td>0.00</td>\n",
       "      <td>0.3</td>\n",
       "      <td>16.76</td>\n",
       "      <td>NaN</td>\n",
       "      <td>None</td>\n",
       "    </tr>\n",
       "    <tr>\n",
       "      <th>238070</th>\n",
       "      <td>2</td>\n",
       "      <td>2020-04-30 23:25:00</td>\n",
       "      <td>2020-04-30 23:38:00</td>\n",
       "      <td>NaN</td>\n",
       "      <td>6.40</td>\n",
       "      <td>NaN</td>\n",
       "      <td>None</td>\n",
       "      <td>137</td>\n",
       "      <td>42</td>\n",
       "      <td>0</td>\n",
       "      <td>22.05</td>\n",
       "      <td>0.0</td>\n",
       "      <td>0.5</td>\n",
       "      <td>0.00</td>\n",
       "      <td>0.00</td>\n",
       "      <td>0.3</td>\n",
       "      <td>25.35</td>\n",
       "      <td>NaN</td>\n",
       "      <td>None</td>\n",
       "    </tr>\n",
       "    <tr>\n",
       "      <th>238071</th>\n",
       "      <td>2</td>\n",
       "      <td>2020-04-30 23:50:26</td>\n",
       "      <td>2020-05-01 00:28:21</td>\n",
       "      <td>NaN</td>\n",
       "      <td>25.70</td>\n",
       "      <td>NaN</td>\n",
       "      <td>None</td>\n",
       "      <td>29</td>\n",
       "      <td>69</td>\n",
       "      <td>0</td>\n",
       "      <td>68.16</td>\n",
       "      <td>0.0</td>\n",
       "      <td>0.5</td>\n",
       "      <td>0.00</td>\n",
       "      <td>6.12</td>\n",
       "      <td>0.3</td>\n",
       "      <td>77.58</td>\n",
       "      <td>NaN</td>\n",
       "      <td>None</td>\n",
       "    </tr>\n",
       "    <tr>\n",
       "      <th>238072</th>\n",
       "      <td>2</td>\n",
       "      <td>2020-04-30 23:16:47</td>\n",
       "      <td>2020-04-30 23:31:08</td>\n",
       "      <td>NaN</td>\n",
       "      <td>5.63</td>\n",
       "      <td>NaN</td>\n",
       "      <td>None</td>\n",
       "      <td>14</td>\n",
       "      <td>29</td>\n",
       "      <td>0</td>\n",
       "      <td>17.48</td>\n",
       "      <td>0.0</td>\n",
       "      <td>0.0</td>\n",
       "      <td>3.56</td>\n",
       "      <td>0.00</td>\n",
       "      <td>0.3</td>\n",
       "      <td>21.34</td>\n",
       "      <td>NaN</td>\n",
       "      <td>None</td>\n",
       "    </tr>\n",
       "  </tbody>\n",
       "</table>\n",
       "<p>238073 rows × 19 columns</p>\n",
       "</div>"
      ],
      "text/plain": [
       "        VendorID tpep_pickup_datetime tpep_dropoff_datetime  passenger_count  \\\n",
       "0              1  2020-04-01 00:41:22   2020-04-01 01:01:53              1.0   \n",
       "1              1  2020-04-01 00:56:00   2020-04-01 01:09:25              1.0   \n",
       "2              1  2020-04-01 00:00:26   2020-04-01 00:09:25              1.0   \n",
       "3              1  2020-04-01 00:24:38   2020-04-01 00:34:38              0.0   \n",
       "4              2  2020-04-01 00:13:24   2020-04-01 00:18:26              1.0   \n",
       "...          ...                  ...                   ...              ...   \n",
       "238068         2  2020-04-30 23:30:00   2020-04-30 23:39:00              NaN   \n",
       "238069         2  2020-04-30 23:44:00   2020-04-30 23:54:00              NaN   \n",
       "238070         2  2020-04-30 23:25:00   2020-04-30 23:38:00              NaN   \n",
       "238071         2  2020-04-30 23:50:26   2020-05-01 00:28:21              NaN   \n",
       "238072         2  2020-04-30 23:16:47   2020-04-30 23:31:08              NaN   \n",
       "\n",
       "        trip_distance  RatecodeID store_and_fwd_flag  PULocationID  \\\n",
       "0                1.20         1.0                  N            41   \n",
       "1                3.40         1.0                  N            95   \n",
       "2                2.80         1.0                  N           237   \n",
       "3                2.60         1.0                  N            68   \n",
       "4                1.44         1.0                  Y           263   \n",
       "...               ...         ...                ...           ...   \n",
       "238068           2.02         NaN               None           238   \n",
       "238069           3.30         NaN               None           263   \n",
       "238070           6.40         NaN               None           137   \n",
       "238071          25.70         NaN               None            29   \n",
       "238072           5.63         NaN               None            14   \n",
       "\n",
       "        DOLocationID  payment_type  fare_amount  extra  mta_tax  tip_amount  \\\n",
       "0                 24             2         5.50    0.5      0.5        0.00   \n",
       "1                197             1        12.50    0.5      0.5        2.75   \n",
       "2                137             1        10.00    3.0      0.5        1.00   \n",
       "3                142             1        10.00    3.0      0.5        1.00   \n",
       "4                 74             1         6.50    0.5      0.5        3.00   \n",
       "...              ...           ...          ...    ...      ...         ...   \n",
       "238068            75             0         8.46    0.0      0.5        0.00   \n",
       "238069           230             0        13.46    0.0      0.5        0.00   \n",
       "238070            42             0        22.05    0.0      0.5        0.00   \n",
       "238071            69             0        68.16    0.0      0.5        0.00   \n",
       "238072            29             0        17.48    0.0      0.0        3.56   \n",
       "\n",
       "        tolls_amount  improvement_surcharge  total_amount  \\\n",
       "0               0.00                    0.3          6.80   \n",
       "1               0.00                    0.3         16.55   \n",
       "2               0.00                    0.3         14.80   \n",
       "3               0.00                    0.3         14.80   \n",
       "4               0.00                    0.3         13.30   \n",
       "...              ...                    ...           ...   \n",
       "238068          0.00                    0.3         11.76   \n",
       "238069          0.00                    0.3         16.76   \n",
       "238070          0.00                    0.3         25.35   \n",
       "238071          6.12                    0.3         77.58   \n",
       "238072          0.00                    0.3         21.34   \n",
       "\n",
       "        congestion_surcharge airport_fee  \n",
       "0                        0.0        None  \n",
       "1                        0.0        None  \n",
       "2                        2.5        None  \n",
       "3                        2.5        None  \n",
       "4                        2.5        None  \n",
       "...                      ...         ...  \n",
       "238068                   NaN        None  \n",
       "238069                   NaN        None  \n",
       "238070                   NaN        None  \n",
       "238071                   NaN        None  \n",
       "238072                   NaN        None  \n",
       "\n",
       "[238073 rows x 19 columns]"
      ]
     },
     "execution_count": 125,
     "metadata": {},
     "output_type": "execute_result"
    }
   ],
   "source": [
    "def read_df(path: str) -> pd.DataFrame:\n",
    "    if dataset_url.endswith(\".parquet\"):\n",
    "        df = pd.read_parquet(path=path)\n",
    "    elif dataset_url.endswith(\".csv.gz\"):\n",
    "        df = pd.read_csv(path, engine=\"pyarrow\", compression=\"gzip\")\n",
    "    else:\n",
    "        df = pd.read_csv(path, engine=\"pyarrow\")\n",
    "    \n",
    "    print(f\"Number of rows: {df.shape[0]}\")\n",
    "    return df\n",
    "\n",
    "path_name = fetch(dataset_url=dataset_url)\n",
    "df_ = read_df(path_name)\n",
    "df_"
   ]
  },
  {
   "cell_type": "code",
   "execution_count": 91,
   "metadata": {},
   "outputs": [
    {
     "data": {
      "text/plain": [
       "str"
      ]
     },
     "execution_count": 91,
     "metadata": {},
     "output_type": "execute_result"
    }
   ],
   "source": [
    "type(path)"
   ]
  },
  {
   "cell_type": "code",
   "execution_count": 104,
   "metadata": {},
   "outputs": [
    {
     "name": "stderr",
     "output_type": "stream",
     "text": [
      "/opt/homebrew/Caskroom/miniforge/base/lib/python3.9/site-packages/prefect/flows.py:206: UserWarning: A flow named 'example-cloud-storage-upload-blob-flow' and defined at '/var/folders/h2/6110hgtx6b7400ybw7yjhn400000gn/T/ipykernel_71701/4259268297.py:7' conflicts with another flow. Consider specifying a unique `name` parameter in the flow definition:\n",
      "\n",
      " `@flow(name='my_unique_name', ...)`\n",
      "  warnings.warn(\n"
     ]
    },
    {
     "data": {
      "text/html": [
       "<pre style=\"white-space:pre;overflow-x:auto;line-height:normal;font-family:Menlo,'DejaVu Sans Mono',consolas,'Courier New',monospace\">13:02:29.544 | <span style=\"color: #008080; text-decoration-color: #008080\">INFO</span>    | prefect.engine - Created flow run<span style=\"color: #800080; text-decoration-color: #800080\"> 'precious-grouse'</span> for flow<span style=\"color: #800080; text-decoration-color: #800080; font-weight: bold\"> 'example-cloud-storage-upload-blob-flow'</span>\n",
       "</pre>\n"
      ],
      "text/plain": [
       "13:02:29.544 | \u001b[36mINFO\u001b[0m    | prefect.engine - Created flow run\u001b[35m 'precious-grouse'\u001b[0m for flow\u001b[1;35m 'example-cloud-storage-upload-blob-flow'\u001b[0m\n"
      ]
     },
     "metadata": {},
     "output_type": "display_data"
    },
    {
     "data": {
      "text/html": [
       "<pre style=\"white-space:pre;overflow-x:auto;line-height:normal;font-family:Menlo,'DejaVu Sans Mono',consolas,'Courier New',monospace\">13:02:42.951 | <span style=\"color: #008080; text-decoration-color: #008080\">INFO</span>    | Flow run<span style=\"color: #800080; text-decoration-color: #800080\"> 'precious-grouse'</span> - Created task run 'cloud_storage_upload_blob_from_file-9a1bf371-0' for task 'cloud_storage_upload_blob_from_file'\n",
       "</pre>\n"
      ],
      "text/plain": [
       "13:02:42.951 | \u001b[36mINFO\u001b[0m    | Flow run\u001b[35m 'precious-grouse'\u001b[0m - Created task run 'cloud_storage_upload_blob_from_file-9a1bf371-0' for task 'cloud_storage_upload_blob_from_file'\n"
      ]
     },
     "metadata": {},
     "output_type": "display_data"
    },
    {
     "data": {
      "text/html": [
       "<pre style=\"white-space:pre;overflow-x:auto;line-height:normal;font-family:Menlo,'DejaVu Sans Mono',consolas,'Courier New',monospace\">13:02:42.959 | <span style=\"color: #008080; text-decoration-color: #008080\">INFO</span>    | Flow run<span style=\"color: #800080; text-decoration-color: #800080\"> 'precious-grouse'</span> - Executing 'cloud_storage_upload_blob_from_file-9a1bf371-0' immediately...\n",
       "</pre>\n"
      ],
      "text/plain": [
       "13:02:42.959 | \u001b[36mINFO\u001b[0m    | Flow run\u001b[35m 'precious-grouse'\u001b[0m - Executing 'cloud_storage_upload_blob_from_file-9a1bf371-0' immediately...\n"
      ]
     },
     "metadata": {},
     "output_type": "display_data"
    },
    {
     "data": {
      "text/html": [
       "<pre style=\"white-space:pre;overflow-x:auto;line-height:normal;font-family:Menlo,'DejaVu Sans Mono',consolas,'Courier New',monospace\">13:02:44.136 | <span style=\"color: #008080; text-decoration-color: #008080\">INFO</span>    | Task run 'cloud_storage_upload_blob_from_file-9a1bf371-0' - Uploading blob named green/green_tripdata_2020-04.parquet to the ny_taxi_bucket_de_2023 bucket\n",
       "</pre>\n"
      ],
      "text/plain": [
       "13:02:44.136 | \u001b[36mINFO\u001b[0m    | Task run 'cloud_storage_upload_blob_from_file-9a1bf371-0' - Uploading blob named green/green_tripdata_2020-04.parquet to the ny_taxi_bucket_de_2023 bucket\n"
      ]
     },
     "metadata": {},
     "output_type": "display_data"
    },
    {
     "data": {
      "text/html": [
       "<pre style=\"white-space:pre;overflow-x:auto;line-height:normal;font-family:Menlo,'DejaVu Sans Mono',consolas,'Courier New',monospace\">13:02:48.315 | <span style=\"color: #008080; text-decoration-color: #008080\">INFO</span>    | Task run 'cloud_storage_upload_blob_from_file-9a1bf371-0' - Finished in state <span style=\"color: #008000; text-decoration-color: #008000\">Completed</span>()\n",
       "</pre>\n"
      ],
      "text/plain": [
       "13:02:48.315 | \u001b[36mINFO\u001b[0m    | Task run 'cloud_storage_upload_blob_from_file-9a1bf371-0' - Finished in state \u001b[32mCompleted\u001b[0m()\n"
      ]
     },
     "metadata": {},
     "output_type": "display_data"
    },
    {
     "data": {
      "text/html": [
       "<pre style=\"white-space:pre;overflow-x:auto;line-height:normal;font-family:Menlo,'DejaVu Sans Mono',consolas,'Courier New',monospace\">13:02:48.665 | <span style=\"color: #008080; text-decoration-color: #008080\">INFO</span>    | Flow run<span style=\"color: #800080; text-decoration-color: #800080\"> 'precious-grouse'</span> - Finished in state <span style=\"color: #008000; text-decoration-color: #008000\">Completed</span>()\n",
       "</pre>\n"
      ],
      "text/plain": [
       "13:02:48.665 | \u001b[36mINFO\u001b[0m    | Flow run\u001b[35m 'precious-grouse'\u001b[0m - Finished in state \u001b[32mCompleted\u001b[0m()\n"
      ]
     },
     "metadata": {},
     "output_type": "display_data"
    },
    {
     "data": {
      "text/plain": [
       "'green/green_tripdata_2020-04.parquet'"
      ]
     },
     "execution_count": 104,
     "metadata": {},
     "output_type": "execute_result"
    }
   ],
   "source": [
    "# \n",
    "from prefect import flow,task\n",
    "from prefect_gcp import GcpCredentials\n",
    "from prefect_gcp.cloud_storage import cloud_storage_upload_blob_from_file, c\n",
    "from pathlib import Path\n",
    "\n",
    "@flow\n",
    "def example_cloud_storage_upload_blob_flow():\n",
    "    path = fetch(dataset_url)\n",
    "    gcp_credentials = GcpCredentials.load(\"ny-taxi-gcp-creds\")  # inferred from env, or set service_account_file\n",
    "    blob = cloud_storage_upload_blob_from_file(file=path, \n",
    "                                                bucket=\"ny_taxi_bucket_de_2023\",\n",
    "                                                blob=\"green/green_tripdata_2020-04.parquet\",\n",
    "                                                gcp_credentials=gcp_credentials)\n",
    "    return blob\n",
    "\n",
    "example_cloud_storage_upload_blob_flow()\n"
   ]
  }
 ],
 "metadata": {
  "kernelspec": {
   "display_name": "base",
   "language": "python",
   "name": "python3"
  },
  "language_info": {
   "codemirror_mode": {
    "name": "ipython",
    "version": 3
   },
   "file_extension": ".py",
   "mimetype": "text/x-python",
   "name": "python",
   "nbconvert_exporter": "python",
   "pygments_lexer": "ipython3",
   "version": "3.9.15"
  },
  "orig_nbformat": 4,
  "vscode": {
   "interpreter": {
    "hash": "c6e4e9f98eb68ad3b7c296f83d20e6de614cb42e90992a65aa266555a3137d0d"
   }
  }
 },
 "nbformat": 4,
 "nbformat_minor": 2
}
