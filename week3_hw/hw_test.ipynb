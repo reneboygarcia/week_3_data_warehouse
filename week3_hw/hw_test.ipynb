{
 "cells": [
  {
   "cell_type": "code",
   "execution_count": null,
   "metadata": {},
   "outputs": [],
   "source": [
    "# imports\n",
    "import os\n",
    "import shutil\n",
    "from pathlib import Path\n",
    "import urllib.request\n",
    "import pandas as pd\n",
    "from google.cloud import bigquery\n",
    "from prefect import task, flow\n",
    "from prefect_gcp.cloud_storage import GcsBucket\n",
    "\n",
    "print(\"Setup Complete\")\n",
    "\n",
    "\n",
    "# Deployment 1\n",
    "# Fetch the data from Github url\n",
    "@task(log_prints=True, name=\"fetch-file-dataset_url\")\n",
    "def fetch(dataset_url: str):\n",
    "    filename, _ = urllib.request.urlretrieve(dataset_url)\n",
    "    return filename\n",
    "\n",
    "\n",
    "# Read and tweak to fix the dtypes of pick-up and drop-off\n",
    "@task(log_prints=True, name=\"read-and-tweak-df\")\n",
    "def read_tweak_df(src: str) -> pd.DataFrame:\n",
    "    df = pd.read_csv(src, parse_dates=[2, 3], compression=\"gzip\")\n",
    "    return df\n",
    "\n",
    "\n",
    "# Write DataFrame to a specific folder after tweaking the DataFrame\n",
    "@task(log_prints=True, name=\"write-to-local-file\")\n",
    "def write_local(df: pd.DataFrame, year: int, dataset_file: str) -> Path:\n",
    "    directory = Path(f\"{year}\")\n",
    "    path_name = directory / f\"{dataset_file}.csv.gz\"\n",
    "    try:\n",
    "        os.makedirs(directory, exist_ok=True)\n",
    "        df.to_csv(path_name, compression=\"gzip\")\n",
    "    except OSError as error:\n",
    "        print(error)\n",
    "    return path_name\n",
    "\n",
    "\n",
    "# https://app.prefect.cloud/account/975bd9ed-5aef-4c8a-a413-23073fef3acb/workspace/a711abba-f5ae-4b00-9315-34f92f089b77/blocks/catalog\n",
    "# Upload local csv.gz file to GCS\n",
    "@task(log_prints=True)\n",
    "def write_gcs(path: Path) -> None:\n",
    "    gcs_block = GcsBucket.load(\"prefect-gcs-block-ny-taxi\")\n",
    "    gcs_block.upload_from_path(from_path=path, to_path=path)\n",
    "    print(\"Loaded data to GCS...Hooray!\")\n",
    "    return\n",
    "\n",
    "\n",
    "# Delete file after uploads\n",
    "@task(log_prints=True, name=\"dedeplicate-local-data\")\n",
    "def deduplicate(path: Path) -> None:\n",
    "    try:\n",
    "        os.remove(path)\n",
    "        os.rmdir(path, )\n",
    "        print(\"Successfully deleted directory and local files...hep hep hooray\")\n",
    "    except OSError as error:\n",
    "        print(f\"The system cannot find the file specified: {error}\")\n",
    "    return\n",
    "\n",
    "\n",
    "@flow(log_prints=True, name=\"etl-web-gcs\")\n",
    "def etl_web_gcs(year: int, month: int):\n",
    "    # Parameters\n",
    "    year = 2019\n",
    "    month = 5\n",
    "    dataset_file = f\"fhv_tripdata_{year}-{month:02}\"\n",
    "    dataset_url = f\"https://github.com/DataTalksClub/nyc-tlc-data/releases/download/fhv/{dataset_file}.csv.gz\"\n",
    "\n",
    "    # Execution\n",
    "    # Fetch the data from Github url\n",
    "    source = fetch(dataset_url)\n",
    "\n",
    "    # no choice but to tweak the data types for us to upload this to BQ\n",
    "    # Read and tweak to fix the dytpes of pick-up and drop-off\n",
    "    df_tweak = read_tweak_df(source)\n",
    "\n",
    "    # write df to local\n",
    "    path_local = write_local(df_tweak, year, dataset_file)\n",
    "\n",
    "    # Upload dataset from local to gcs\n",
    "    write_gcs(path_local)\n",
    "\n",
    "    # Delete file after uploads\n",
    "    deduplicate(path_local)\n",
    "\n",
    "    # Next step is to create a separate deployment from GCS to BigQuery\n",
    "\n",
    "\n",
    "# Create Parent flow to loop\n",
    "@flow(name=\"etl-parent-local-gcs\")\n",
    "def etl_parent_web_gcs(year: int, months: list):\n",
    "    year = 2019\n",
    "    months = [2]\n",
    "\n",
    "    for month in months:\n",
    "        etl_web_gcs(year, month)\n",
    "\n",
    "\n",
    "# Run main\n",
    "if __name__ == \"__main__\":\n",
    "    etl_parent_web_gcs(year=2019, months=[2])\n"
   ]
  },
  {
   "cell_type": "code",
   "execution_count": 11,
   "metadata": {},
   "outputs": [
    {
     "name": "stderr",
     "output_type": "stream",
     "text": [
      "/opt/homebrew/Caskroom/miniforge/base/lib/python3.9/site-packages/prefect/tasks.py:261: UserWarning: A task named 'get-gcp-creds' and defined at '/var/folders/h2/6110hgtx6b7400ybw7yjhn400000gn/T/ipykernel_21033/4186519071.py:7' conflicts with another task. Consider specifying a unique `name` parameter in the task definition:\n",
      "\n",
      " `@task(name='my_unique_name', ...)`\n",
      "  warnings.warn(\n",
      "/opt/homebrew/Caskroom/miniforge/base/lib/python3.9/site-packages/prefect/flows.py:206: UserWarning: A flow named 'etl-gcs-to-bq' and defined at '/var/folders/h2/6110hgtx6b7400ybw7yjhn400000gn/T/ipykernel_21033/4186519071.py:15' conflicts with another flow. Consider specifying a unique `name` parameter in the flow definition:\n",
      "\n",
      " `@flow(name='my_unique_name', ...)`\n",
      "  warnings.warn(\n",
      "/opt/homebrew/Caskroom/miniforge/base/lib/python3.9/site-packages/prefect/flows.py:206: UserWarning: A flow named 'etl-parent-to-bq' and defined at '/var/folders/h2/6110hgtx6b7400ybw7yjhn400000gn/T/ipykernel_21033/4186519071.py:51' conflicts with another flow. Consider specifying a unique `name` parameter in the flow definition:\n",
      "\n",
      " `@flow(name='my_unique_name', ...)`\n",
      "  warnings.warn(\n"
     ]
    },
    {
     "data": {
      "text/html": [
       "<pre style=\"white-space:pre;overflow-x:auto;line-height:normal;font-family:Menlo,'DejaVu Sans Mono',consolas,'Courier New',monospace\">15:08:02.452 | <span style=\"color: #008080; text-decoration-color: #008080\">INFO</span>    | prefect.engine - Created flow run<span style=\"color: #800080; text-decoration-color: #800080\"> 'hasty-wildcat'</span> for flow<span style=\"color: #800080; text-decoration-color: #800080; font-weight: bold\"> 'etl-parent-to-bq'</span>\n",
       "</pre>\n"
      ],
      "text/plain": [
       "15:08:02.452 | \u001b[36mINFO\u001b[0m    | prefect.engine - Created flow run\u001b[35m 'hasty-wildcat'\u001b[0m for flow\u001b[1;35m 'etl-parent-to-bq'\u001b[0m\n"
      ]
     },
     "metadata": {},
     "output_type": "display_data"
    },
    {
     "name": "stderr",
     "output_type": "stream",
     "text": [
      "/opt/homebrew/Caskroom/miniforge/base/lib/python3.9/site-packages/prefect/tasks.py:261: UserWarning: A task named 'etl-gcs-to-bq' and defined at '/var/folders/h2/6110hgtx6b7400ybw7yjhn400000gn/T/ipykernel_21033/4186519071.py:15' conflicts with another task. Consider specifying a unique `name` parameter in the task definition:\n",
      "\n",
      " `@task(name='my_unique_name', ...)`\n",
      "  warnings.warn(\n"
     ]
    },
    {
     "data": {
      "text/html": [
       "<pre style=\"white-space:pre;overflow-x:auto;line-height:normal;font-family:Menlo,'DejaVu Sans Mono',consolas,'Courier New',monospace\">15:08:05.498 | <span style=\"color: #008080; text-decoration-color: #008080\">INFO</span>    | Flow run<span style=\"color: #800080; text-decoration-color: #800080\"> 'hasty-wildcat'</span> - Created subflow run<span style=\"color: #800080; text-decoration-color: #800080\"> 'urban-pig'</span> for flow<span style=\"color: #800080; text-decoration-color: #800080; font-weight: bold\"> 'etl-gcs-to-bq'</span>\n",
       "</pre>\n"
      ],
      "text/plain": [
       "15:08:05.498 | \u001b[36mINFO\u001b[0m    | Flow run\u001b[35m 'hasty-wildcat'\u001b[0m - Created subflow run\u001b[35m 'urban-pig'\u001b[0m for flow\u001b[1;35m 'etl-gcs-to-bq'\u001b[0m\n"
      ]
     },
     "metadata": {},
     "output_type": "display_data"
    },
    {
     "data": {
      "text/html": [
       "<pre style=\"white-space:pre;overflow-x:auto;line-height:normal;font-family:Menlo,'DejaVu Sans Mono',consolas,'Courier New',monospace\">15:08:06.600 | <span style=\"color: #008080; text-decoration-color: #008080\">INFO</span>    | Flow run<span style=\"color: #800080; text-decoration-color: #800080\"> 'urban-pig'</span> - Created task run 'get-gcp-creds-b52b4cc6-0' for task 'get-gcp-creds'\n",
       "</pre>\n"
      ],
      "text/plain": [
       "15:08:06.600 | \u001b[36mINFO\u001b[0m    | Flow run\u001b[35m 'urban-pig'\u001b[0m - Created task run 'get-gcp-creds-b52b4cc6-0' for task 'get-gcp-creds'\n"
      ]
     },
     "metadata": {},
     "output_type": "display_data"
    },
    {
     "data": {
      "text/html": [
       "<pre style=\"white-space:pre;overflow-x:auto;line-height:normal;font-family:Menlo,'DejaVu Sans Mono',consolas,'Courier New',monospace\">15:08:06.603 | <span style=\"color: #008080; text-decoration-color: #008080\">INFO</span>    | Flow run<span style=\"color: #800080; text-decoration-color: #800080\"> 'urban-pig'</span> - Executing 'get-gcp-creds-b52b4cc6-0' immediately...\n",
       "</pre>\n"
      ],
      "text/plain": [
       "15:08:06.603 | \u001b[36mINFO\u001b[0m    | Flow run\u001b[35m 'urban-pig'\u001b[0m - Executing 'get-gcp-creds-b52b4cc6-0' immediately...\n"
      ]
     },
     "metadata": {},
     "output_type": "display_data"
    },
    {
     "data": {
      "text/html": [
       "<pre style=\"white-space:pre;overflow-x:auto;line-height:normal;font-family:Menlo,'DejaVu Sans Mono',consolas,'Courier New',monospace\">15:08:08.173 | <span style=\"color: #008080; text-decoration-color: #008080\">INFO</span>    | Task run 'get-gcp-creds-b52b4cc6-0' - Finished in state <span style=\"color: #008000; text-decoration-color: #008000\">Completed</span>()\n",
       "</pre>\n"
      ],
      "text/plain": [
       "15:08:08.173 | \u001b[36mINFO\u001b[0m    | Task run 'get-gcp-creds-b52b4cc6-0' - Finished in state \u001b[32mCompleted\u001b[0m()\n"
      ]
     },
     "metadata": {},
     "output_type": "display_data"
    },
    {
     "data": {
      "text/html": [
       "<pre style=\"white-space:pre;overflow-x:auto;line-height:normal;font-family:Menlo,'DejaVu Sans Mono',consolas,'Courier New',monospace\">15:08:10.392 | <span style=\"color: #008080; text-decoration-color: #008080\">INFO</span>    | Flow run<span style=\"color: #800080; text-decoration-color: #800080\"> 'hasty-wildcat'</span> - Traceback (most recent call last):\n",
       "</pre>\n"
      ],
      "text/plain": [
       "15:08:10.392 | \u001b[36mINFO\u001b[0m    | Flow run\u001b[35m 'hasty-wildcat'\u001b[0m - Traceback (most recent call last):\n"
      ]
     },
     "metadata": {},
     "output_type": "display_data"
    },
    {
     "data": {
      "text/html": [
       "<pre style=\"white-space:pre;overflow-x:auto;line-height:normal;font-family:Menlo,'DejaVu Sans Mono',consolas,'Courier New',monospace\">15:08:10.393 | <span style=\"color: #008080; text-decoration-color: #008080\">INFO</span>    | Flow run<span style=\"color: #800080; text-decoration-color: #800080\"> 'hasty-wildcat'</span> -   File \"/opt/homebrew/Caskroom/miniforge/base/lib/python3.9/site-packages/prefect/engine.py\", line 643, in orchestrate_flow_run\n",
       "    result = await run_sync(flow_call)\n",
       "</pre>\n"
      ],
      "text/plain": [
       "15:08:10.393 | \u001b[36mINFO\u001b[0m    | Flow run\u001b[35m 'hasty-wildcat'\u001b[0m -   File \"/opt/homebrew/Caskroom/miniforge/base/lib/python3.9/site-packages/prefect/engine.py\", line 643, in orchestrate_flow_run\n",
       "    result = await run_sync(flow_call)\n"
      ]
     },
     "metadata": {},
     "output_type": "display_data"
    },
    {
     "data": {
      "text/html": [
       "<pre style=\"white-space:pre;overflow-x:auto;line-height:normal;font-family:Menlo,'DejaVu Sans Mono',consolas,'Courier New',monospace\">15:08:10.394 | <span style=\"color: #008080; text-decoration-color: #008080\">INFO</span>    | Flow run<span style=\"color: #800080; text-decoration-color: #800080\"> 'hasty-wildcat'</span> -   File \"/opt/homebrew/Caskroom/miniforge/base/lib/python3.9/site-packages/prefect/utilities/asyncutils.py\", line 156, in run_sync_in_interruptible_worker_thread\n",
       "    tg.start_soon(\n",
       "</pre>\n"
      ],
      "text/plain": [
       "15:08:10.394 | \u001b[36mINFO\u001b[0m    | Flow run\u001b[35m 'hasty-wildcat'\u001b[0m -   File \"/opt/homebrew/Caskroom/miniforge/base/lib/python3.9/site-packages/prefect/utilities/asyncutils.py\", line 156, in run_sync_in_interruptible_worker_thread\n",
       "    tg.start_soon(\n"
      ]
     },
     "metadata": {},
     "output_type": "display_data"
    },
    {
     "data": {
      "text/html": [
       "<pre style=\"white-space:pre;overflow-x:auto;line-height:normal;font-family:Menlo,'DejaVu Sans Mono',consolas,'Courier New',monospace\">15:08:10.395 | <span style=\"color: #008080; text-decoration-color: #008080\">INFO</span>    | Flow run<span style=\"color: #800080; text-decoration-color: #800080\"> 'hasty-wildcat'</span> -   File \"/opt/homebrew/Caskroom/miniforge/base/lib/python3.9/site-packages/anyio/_backends/_asyncio.py\", line 662, in __aexit__\n",
       "    raise exceptions[0]\n",
       "</pre>\n"
      ],
      "text/plain": [
       "15:08:10.395 | \u001b[36mINFO\u001b[0m    | Flow run\u001b[35m 'hasty-wildcat'\u001b[0m -   File \"/opt/homebrew/Caskroom/miniforge/base/lib/python3.9/site-packages/anyio/_backends/_asyncio.py\", line 662, in __aexit__\n",
       "    raise exceptions[0]\n"
      ]
     },
     "metadata": {},
     "output_type": "display_data"
    },
    {
     "data": {
      "text/html": [
       "<pre style=\"white-space:pre;overflow-x:auto;line-height:normal;font-family:Menlo,'DejaVu Sans Mono',consolas,'Courier New',monospace\">15:08:10.400 | <span style=\"color: #008080; text-decoration-color: #008080\">INFO</span>    | Flow run<span style=\"color: #800080; text-decoration-color: #800080\"> 'hasty-wildcat'</span> -   File \"/opt/homebrew/Caskroom/miniforge/base/lib/python3.9/site-packages/anyio/to_thread.py\", line 31, in run_sync\n",
       "    return await get_asynclib().run_sync_in_worker_thread(\n",
       "</pre>\n"
      ],
      "text/plain": [
       "15:08:10.400 | \u001b[36mINFO\u001b[0m    | Flow run\u001b[35m 'hasty-wildcat'\u001b[0m -   File \"/opt/homebrew/Caskroom/miniforge/base/lib/python3.9/site-packages/anyio/to_thread.py\", line 31, in run_sync\n",
       "    return await get_asynclib().run_sync_in_worker_thread(\n"
      ]
     },
     "metadata": {},
     "output_type": "display_data"
    },
    {
     "data": {
      "text/html": [
       "<pre style=\"white-space:pre;overflow-x:auto;line-height:normal;font-family:Menlo,'DejaVu Sans Mono',consolas,'Courier New',monospace\">15:08:10.401 | <span style=\"color: #008080; text-decoration-color: #008080\">INFO</span>    | Flow run<span style=\"color: #800080; text-decoration-color: #800080\"> 'hasty-wildcat'</span> -   File \"/opt/homebrew/Caskroom/miniforge/base/lib/python3.9/site-packages/anyio/_backends/_asyncio.py\", line 937, in run_sync_in_worker_thread\n",
       "    return await future\n",
       "</pre>\n"
      ],
      "text/plain": [
       "15:08:10.401 | \u001b[36mINFO\u001b[0m    | Flow run\u001b[35m 'hasty-wildcat'\u001b[0m -   File \"/opt/homebrew/Caskroom/miniforge/base/lib/python3.9/site-packages/anyio/_backends/_asyncio.py\", line 937, in run_sync_in_worker_thread\n",
       "    return await future\n"
      ]
     },
     "metadata": {},
     "output_type": "display_data"
    },
    {
     "data": {
      "text/html": [
       "<pre style=\"white-space:pre;overflow-x:auto;line-height:normal;font-family:Menlo,'DejaVu Sans Mono',consolas,'Courier New',monospace\">15:08:10.402 | <span style=\"color: #008080; text-decoration-color: #008080\">INFO</span>    | Flow run<span style=\"color: #800080; text-decoration-color: #800080\"> 'hasty-wildcat'</span> -   File \"/opt/homebrew/Caskroom/miniforge/base/lib/python3.9/site-packages/anyio/_backends/_asyncio.py\", line 867, in run\n",
       "    result = context.run(func, *args)\n",
       "</pre>\n"
      ],
      "text/plain": [
       "15:08:10.402 | \u001b[36mINFO\u001b[0m    | Flow run\u001b[35m 'hasty-wildcat'\u001b[0m -   File \"/opt/homebrew/Caskroom/miniforge/base/lib/python3.9/site-packages/anyio/_backends/_asyncio.py\", line 867, in run\n",
       "    result = context.run(func, *args)\n"
      ]
     },
     "metadata": {},
     "output_type": "display_data"
    },
    {
     "data": {
      "text/html": [
       "<pre style=\"white-space:pre;overflow-x:auto;line-height:normal;font-family:Menlo,'DejaVu Sans Mono',consolas,'Courier New',monospace\">15:08:10.403 | <span style=\"color: #008080; text-decoration-color: #008080\">INFO</span>    | Flow run<span style=\"color: #800080; text-decoration-color: #800080\"> 'hasty-wildcat'</span> -   File \"/opt/homebrew/Caskroom/miniforge/base/lib/python3.9/site-packages/prefect/utilities/asyncutils.py\", line 135, in capture_worker_thread_and_result\n",
       "    result = __fn(*args, **kwargs)\n",
       "</pre>\n"
      ],
      "text/plain": [
       "15:08:10.403 | \u001b[36mINFO\u001b[0m    | Flow run\u001b[35m 'hasty-wildcat'\u001b[0m -   File \"/opt/homebrew/Caskroom/miniforge/base/lib/python3.9/site-packages/prefect/utilities/asyncutils.py\", line 135, in capture_worker_thread_and_result\n",
       "    result = __fn(*args, **kwargs)\n"
      ]
     },
     "metadata": {},
     "output_type": "display_data"
    },
    {
     "data": {
      "text/html": [
       "<pre style=\"white-space:pre;overflow-x:auto;line-height:normal;font-family:Menlo,'DejaVu Sans Mono',consolas,'Courier New',monospace\">15:08:10.405 | <span style=\"color: #008080; text-decoration-color: #008080\">INFO</span>    | Flow run<span style=\"color: #800080; text-decoration-color: #800080\"> 'hasty-wildcat'</span> -   File \"/var/folders/h2/6110hgtx6b7400ybw7yjhn400000gn/T/ipykernel_21033/4186519071.py\", line 44, in etl_gcs_to_bq\n",
       "    load_job.result()  # Waits for the job to complete.\n",
       "</pre>\n"
      ],
      "text/plain": [
       "15:08:10.405 | \u001b[36mINFO\u001b[0m    | Flow run\u001b[35m 'hasty-wildcat'\u001b[0m -   File \"/var/folders/h2/6110hgtx6b7400ybw7yjhn400000gn/T/ipykernel_21033/4186519071.py\", line 44, in etl_gcs_to_bq\n",
       "    load_job.result()  # Waits for the job to complete.\n"
      ]
     },
     "metadata": {},
     "output_type": "display_data"
    },
    {
     "data": {
      "text/html": [
       "<pre style=\"white-space:pre;overflow-x:auto;line-height:normal;font-family:Menlo,'DejaVu Sans Mono',consolas,'Courier New',monospace\">15:08:10.406 | <span style=\"color: #008080; text-decoration-color: #008080\">INFO</span>    | Flow run<span style=\"color: #800080; text-decoration-color: #800080\"> 'hasty-wildcat'</span> -   File \"/opt/homebrew/Caskroom/miniforge/base/lib/python3.9/site-packages/google/cloud/bigquery/job/base.py\", line 728, in result\n",
       "    return super(_AsyncJob, self).result(timeout=timeout, **kwargs)\n",
       "</pre>\n"
      ],
      "text/plain": [
       "15:08:10.406 | \u001b[36mINFO\u001b[0m    | Flow run\u001b[35m 'hasty-wildcat'\u001b[0m -   File \"/opt/homebrew/Caskroom/miniforge/base/lib/python3.9/site-packages/google/cloud/bigquery/job/base.py\", line 728, in result\n",
       "    return super(_AsyncJob, self).result(timeout=timeout, **kwargs)\n"
      ]
     },
     "metadata": {},
     "output_type": "display_data"
    },
    {
     "data": {
      "text/html": [
       "<pre style=\"white-space:pre;overflow-x:auto;line-height:normal;font-family:Menlo,'DejaVu Sans Mono',consolas,'Courier New',monospace\">15:08:10.407 | <span style=\"color: #008080; text-decoration-color: #008080\">INFO</span>    | Flow run<span style=\"color: #800080; text-decoration-color: #800080\"> 'hasty-wildcat'</span> -   File \"/opt/homebrew/Caskroom/miniforge/base/lib/python3.9/site-packages/google/api_core/future/polling.py\", line 261, in result\n",
       "    raise self._exception\n",
       "</pre>\n"
      ],
      "text/plain": [
       "15:08:10.407 | \u001b[36mINFO\u001b[0m    | Flow run\u001b[35m 'hasty-wildcat'\u001b[0m -   File \"/opt/homebrew/Caskroom/miniforge/base/lib/python3.9/site-packages/google/api_core/future/polling.py\", line 261, in result\n",
       "    raise self._exception\n"
      ]
     },
     "metadata": {},
     "output_type": "display_data"
    },
    {
     "data": {
      "text/html": [
       "<pre style=\"white-space:pre;overflow-x:auto;line-height:normal;font-family:Menlo,'DejaVu Sans Mono',consolas,'Courier New',monospace\">15:08:10.407 | <span style=\"color: #008080; text-decoration-color: #008080\">INFO</span>    | Flow run<span style=\"color: #800080; text-decoration-color: #800080\"> 'hasty-wildcat'</span> - google.api_core.exceptions.BadRequest: 400 Error while reading data, error message: Too many values in row starting at position: 0. Found 8 column(s) while expected 7. File: gs://ny_taxi_bucket_de_2023/2019/fhv_tripdata_2019-02.csv.gz\n",
       "</pre>\n"
      ],
      "text/plain": [
       "15:08:10.407 | \u001b[36mINFO\u001b[0m    | Flow run\u001b[35m 'hasty-wildcat'\u001b[0m - google.api_core.exceptions.BadRequest: 400 Error while reading data, error message: Too many values in row starting at position: 0. Found 8 column(s) while expected 7. File: gs://ny_taxi_bucket_de_2023/2019/fhv_tripdata_2019-02.csv.gz\n"
      ]
     },
     "metadata": {},
     "output_type": "display_data"
    },
    {
     "data": {
      "text/html": [
       "<pre style=\"white-space:pre;overflow-x:auto;line-height:normal;font-family:Menlo,'DejaVu Sans Mono',consolas,'Courier New',monospace\">15:08:10.410 | <span style=\"color: #008080; text-decoration-color: #008080\">INFO</span>    | Flow run<span style=\"color: #800080; text-decoration-color: #800080\"> 'hasty-wildcat'</span> - Traceback (most recent call last):\n",
       "</pre>\n"
      ],
      "text/plain": [
       "15:08:10.410 | \u001b[36mINFO\u001b[0m    | Flow run\u001b[35m 'hasty-wildcat'\u001b[0m - Traceback (most recent call last):\n"
      ]
     },
     "metadata": {},
     "output_type": "display_data"
    },
    {
     "data": {
      "text/html": [
       "<pre style=\"white-space:pre;overflow-x:auto;line-height:normal;font-family:Menlo,'DejaVu Sans Mono',consolas,'Courier New',monospace\">15:08:10.411 | <span style=\"color: #008080; text-decoration-color: #008080\">INFO</span>    | Flow run<span style=\"color: #800080; text-decoration-color: #800080\"> 'hasty-wildcat'</span> -   File \"/opt/homebrew/Caskroom/miniforge/base/lib/python3.9/site-packages/prefect/engine.py\", line 643, in orchestrate_flow_run\n",
       "    result = await run_sync(flow_call)\n",
       "</pre>\n"
      ],
      "text/plain": [
       "15:08:10.411 | \u001b[36mINFO\u001b[0m    | Flow run\u001b[35m 'hasty-wildcat'\u001b[0m -   File \"/opt/homebrew/Caskroom/miniforge/base/lib/python3.9/site-packages/prefect/engine.py\", line 643, in orchestrate_flow_run\n",
       "    result = await run_sync(flow_call)\n"
      ]
     },
     "metadata": {},
     "output_type": "display_data"
    },
    {
     "data": {
      "text/html": [
       "<pre style=\"white-space:pre;overflow-x:auto;line-height:normal;font-family:Menlo,'DejaVu Sans Mono',consolas,'Courier New',monospace\">15:08:10.412 | <span style=\"color: #008080; text-decoration-color: #008080\">INFO</span>    | Flow run<span style=\"color: #800080; text-decoration-color: #800080\"> 'hasty-wildcat'</span> -   File \"/opt/homebrew/Caskroom/miniforge/base/lib/python3.9/site-packages/prefect/utilities/asyncutils.py\", line 156, in run_sync_in_interruptible_worker_thread\n",
       "    tg.start_soon(\n",
       "</pre>\n"
      ],
      "text/plain": [
       "15:08:10.412 | \u001b[36mINFO\u001b[0m    | Flow run\u001b[35m 'hasty-wildcat'\u001b[0m -   File \"/opt/homebrew/Caskroom/miniforge/base/lib/python3.9/site-packages/prefect/utilities/asyncutils.py\", line 156, in run_sync_in_interruptible_worker_thread\n",
       "    tg.start_soon(\n"
      ]
     },
     "metadata": {},
     "output_type": "display_data"
    },
    {
     "data": {
      "text/html": [
       "<pre style=\"white-space:pre;overflow-x:auto;line-height:normal;font-family:Menlo,'DejaVu Sans Mono',consolas,'Courier New',monospace\">15:08:10.413 | <span style=\"color: #008080; text-decoration-color: #008080\">INFO</span>    | Flow run<span style=\"color: #800080; text-decoration-color: #800080\"> 'hasty-wildcat'</span> -   File \"/opt/homebrew/Caskroom/miniforge/base/lib/python3.9/site-packages/anyio/_backends/_asyncio.py\", line 662, in __aexit__\n",
       "    raise exceptions[0]\n",
       "</pre>\n"
      ],
      "text/plain": [
       "15:08:10.413 | \u001b[36mINFO\u001b[0m    | Flow run\u001b[35m 'hasty-wildcat'\u001b[0m -   File \"/opt/homebrew/Caskroom/miniforge/base/lib/python3.9/site-packages/anyio/_backends/_asyncio.py\", line 662, in __aexit__\n",
       "    raise exceptions[0]\n"
      ]
     },
     "metadata": {},
     "output_type": "display_data"
    },
    {
     "data": {
      "text/html": [
       "<pre style=\"white-space:pre;overflow-x:auto;line-height:normal;font-family:Menlo,'DejaVu Sans Mono',consolas,'Courier New',monospace\">15:08:10.414 | <span style=\"color: #008080; text-decoration-color: #008080\">INFO</span>    | Flow run<span style=\"color: #800080; text-decoration-color: #800080\"> 'hasty-wildcat'</span> -   File \"/opt/homebrew/Caskroom/miniforge/base/lib/python3.9/site-packages/anyio/to_thread.py\", line 31, in run_sync\n",
       "    return await get_asynclib().run_sync_in_worker_thread(\n",
       "</pre>\n"
      ],
      "text/plain": [
       "15:08:10.414 | \u001b[36mINFO\u001b[0m    | Flow run\u001b[35m 'hasty-wildcat'\u001b[0m -   File \"/opt/homebrew/Caskroom/miniforge/base/lib/python3.9/site-packages/anyio/to_thread.py\", line 31, in run_sync\n",
       "    return await get_asynclib().run_sync_in_worker_thread(\n"
      ]
     },
     "metadata": {},
     "output_type": "display_data"
    },
    {
     "data": {
      "text/html": [
       "<pre style=\"white-space:pre;overflow-x:auto;line-height:normal;font-family:Menlo,'DejaVu Sans Mono',consolas,'Courier New',monospace\">15:08:10.415 | <span style=\"color: #008080; text-decoration-color: #008080\">INFO</span>    | Flow run<span style=\"color: #800080; text-decoration-color: #800080\"> 'hasty-wildcat'</span> -   File \"/opt/homebrew/Caskroom/miniforge/base/lib/python3.9/site-packages/anyio/_backends/_asyncio.py\", line 937, in run_sync_in_worker_thread\n",
       "    return await future\n",
       "</pre>\n"
      ],
      "text/plain": [
       "15:08:10.415 | \u001b[36mINFO\u001b[0m    | Flow run\u001b[35m 'hasty-wildcat'\u001b[0m -   File \"/opt/homebrew/Caskroom/miniforge/base/lib/python3.9/site-packages/anyio/_backends/_asyncio.py\", line 937, in run_sync_in_worker_thread\n",
       "    return await future\n"
      ]
     },
     "metadata": {},
     "output_type": "display_data"
    },
    {
     "data": {
      "text/html": [
       "<pre style=\"white-space:pre;overflow-x:auto;line-height:normal;font-family:Menlo,'DejaVu Sans Mono',consolas,'Courier New',monospace\">15:08:10.417 | <span style=\"color: #008080; text-decoration-color: #008080\">INFO</span>    | Flow run<span style=\"color: #800080; text-decoration-color: #800080\"> 'hasty-wildcat'</span> -   File \"/opt/homebrew/Caskroom/miniforge/base/lib/python3.9/site-packages/anyio/_backends/_asyncio.py\", line 867, in run\n",
       "    result = context.run(func, *args)\n",
       "</pre>\n"
      ],
      "text/plain": [
       "15:08:10.417 | \u001b[36mINFO\u001b[0m    | Flow run\u001b[35m 'hasty-wildcat'\u001b[0m -   File \"/opt/homebrew/Caskroom/miniforge/base/lib/python3.9/site-packages/anyio/_backends/_asyncio.py\", line 867, in run\n",
       "    result = context.run(func, *args)\n"
      ]
     },
     "metadata": {},
     "output_type": "display_data"
    },
    {
     "data": {
      "text/html": [
       "<pre style=\"white-space:pre;overflow-x:auto;line-height:normal;font-family:Menlo,'DejaVu Sans Mono',consolas,'Courier New',monospace\">15:08:10.418 | <span style=\"color: #008080; text-decoration-color: #008080\">INFO</span>    | Flow run<span style=\"color: #800080; text-decoration-color: #800080\"> 'hasty-wildcat'</span> -   File \"/opt/homebrew/Caskroom/miniforge/base/lib/python3.9/site-packages/prefect/utilities/asyncutils.py\", line 135, in capture_worker_thread_and_result\n",
       "    result = __fn(*args, **kwargs)\n",
       "</pre>\n"
      ],
      "text/plain": [
       "15:08:10.418 | \u001b[36mINFO\u001b[0m    | Flow run\u001b[35m 'hasty-wildcat'\u001b[0m -   File \"/opt/homebrew/Caskroom/miniforge/base/lib/python3.9/site-packages/prefect/utilities/asyncutils.py\", line 135, in capture_worker_thread_and_result\n",
       "    result = __fn(*args, **kwargs)\n"
      ]
     },
     "metadata": {},
     "output_type": "display_data"
    },
    {
     "data": {
      "text/html": [
       "<pre style=\"white-space:pre;overflow-x:auto;line-height:normal;font-family:Menlo,'DejaVu Sans Mono',consolas,'Courier New',monospace\">15:08:10.419 | <span style=\"color: #008080; text-decoration-color: #008080\">INFO</span>    | Flow run<span style=\"color: #800080; text-decoration-color: #800080\"> 'hasty-wildcat'</span> -   File \"/var/folders/h2/6110hgtx6b7400ybw7yjhn400000gn/T/ipykernel_21033/4186519071.py\", line 44, in etl_gcs_to_bq\n",
       "    load_job.result()  # Waits for the job to complete.\n",
       "</pre>\n"
      ],
      "text/plain": [
       "15:08:10.419 | \u001b[36mINFO\u001b[0m    | Flow run\u001b[35m 'hasty-wildcat'\u001b[0m -   File \"/var/folders/h2/6110hgtx6b7400ybw7yjhn400000gn/T/ipykernel_21033/4186519071.py\", line 44, in etl_gcs_to_bq\n",
       "    load_job.result()  # Waits for the job to complete.\n"
      ]
     },
     "metadata": {},
     "output_type": "display_data"
    },
    {
     "data": {
      "text/html": [
       "<pre style=\"white-space:pre;overflow-x:auto;line-height:normal;font-family:Menlo,'DejaVu Sans Mono',consolas,'Courier New',monospace\">15:08:10.420 | <span style=\"color: #008080; text-decoration-color: #008080\">INFO</span>    | Flow run<span style=\"color: #800080; text-decoration-color: #800080\"> 'hasty-wildcat'</span> -   File \"/opt/homebrew/Caskroom/miniforge/base/lib/python3.9/site-packages/google/cloud/bigquery/job/base.py\", line 728, in result\n",
       "    return super(_AsyncJob, self).result(timeout=timeout, **kwargs)\n",
       "</pre>\n"
      ],
      "text/plain": [
       "15:08:10.420 | \u001b[36mINFO\u001b[0m    | Flow run\u001b[35m 'hasty-wildcat'\u001b[0m -   File \"/opt/homebrew/Caskroom/miniforge/base/lib/python3.9/site-packages/google/cloud/bigquery/job/base.py\", line 728, in result\n",
       "    return super(_AsyncJob, self).result(timeout=timeout, **kwargs)\n"
      ]
     },
     "metadata": {},
     "output_type": "display_data"
    },
    {
     "data": {
      "text/html": [
       "<pre style=\"white-space:pre;overflow-x:auto;line-height:normal;font-family:Menlo,'DejaVu Sans Mono',consolas,'Courier New',monospace\">15:08:10.422 | <span style=\"color: #008080; text-decoration-color: #008080\">INFO</span>    | Flow run<span style=\"color: #800080; text-decoration-color: #800080\"> 'hasty-wildcat'</span> -   File \"/opt/homebrew/Caskroom/miniforge/base/lib/python3.9/site-packages/google/api_core/future/polling.py\", line 261, in result\n",
       "    raise self._exception\n",
       "</pre>\n"
      ],
      "text/plain": [
       "15:08:10.422 | \u001b[36mINFO\u001b[0m    | Flow run\u001b[35m 'hasty-wildcat'\u001b[0m -   File \"/opt/homebrew/Caskroom/miniforge/base/lib/python3.9/site-packages/google/api_core/future/polling.py\", line 261, in result\n",
       "    raise self._exception\n"
      ]
     },
     "metadata": {},
     "output_type": "display_data"
    },
    {
     "data": {
      "text/html": [
       "<pre style=\"white-space:pre;overflow-x:auto;line-height:normal;font-family:Menlo,'DejaVu Sans Mono',consolas,'Courier New',monospace\">15:08:10.422 | <span style=\"color: #008080; text-decoration-color: #008080\">INFO</span>    | Flow run<span style=\"color: #800080; text-decoration-color: #800080\"> 'hasty-wildcat'</span> - google.api_core.exceptions.BadRequest: 400 Error while reading data, error message: Too many values in row starting at position: 0. Found 8 column(s) while expected 7. File: gs://ny_taxi_bucket_de_2023/2019/fhv_tripdata_2019-02.csv.gz\n",
       "</pre>\n"
      ],
      "text/plain": [
       "15:08:10.422 | \u001b[36mINFO\u001b[0m    | Flow run\u001b[35m 'hasty-wildcat'\u001b[0m - google.api_core.exceptions.BadRequest: 400 Error while reading data, error message: Too many values in row starting at position: 0. Found 8 column(s) while expected 7. File: gs://ny_taxi_bucket_de_2023/2019/fhv_tripdata_2019-02.csv.gz\n"
      ]
     },
     "metadata": {},
     "output_type": "display_data"
    },
    {
     "data": {
      "text/html": [
       "<pre style=\"white-space:pre;overflow-x:auto;line-height:normal;font-family:Menlo,'DejaVu Sans Mono',consolas,'Courier New',monospace\">15:08:10.384 | <span style=\"color: #d70000; text-decoration-color: #d70000\">ERROR</span>   | Flow run<span style=\"color: #800080; text-decoration-color: #800080\"> 'urban-pig'</span> - Encountered exception during execution:\n",
       "</pre>\n"
      ],
      "text/plain": [
       "15:08:10.384 | \u001b[38;5;160mERROR\u001b[0m   | Flow run\u001b[35m 'urban-pig'\u001b[0m - Encountered exception during execution:\n"
      ]
     },
     "metadata": {},
     "output_type": "display_data"
    },
    {
     "data": {
      "text/html": [
       "<pre style=\"white-space:pre;overflow-x:auto;line-height:normal;font-family:Menlo,'DejaVu Sans Mono',consolas,'Courier New',monospace\">15:08:10.825 | <span style=\"color: #d70000; text-decoration-color: #d70000\">ERROR</span>   | Flow run<span style=\"color: #800080; text-decoration-color: #800080\"> 'urban-pig'</span> - Finished in state <span style=\"color: #d70000; text-decoration-color: #d70000\">Failed</span>('Flow run encountered an exception. google.api_core.exceptions.BadRequest: 400 Error while reading data, error message: Too many values in row starting at position: 0. Found 8 column(s) while expected 7. File: gs://ny_taxi_bucket_de_2023/2019/fhv_tripdata_2019-02.csv.gz\\n')\n",
       "</pre>\n"
      ],
      "text/plain": [
       "15:08:10.825 | \u001b[38;5;160mERROR\u001b[0m   | Flow run\u001b[35m 'urban-pig'\u001b[0m - Finished in state \u001b[38;5;160mFailed\u001b[0m('Flow run encountered an exception. google.api_core.exceptions.BadRequest: 400 Error while reading data, error message: Too many values in row starting at position: 0. Found 8 column(s) while expected 7. File: gs://ny_taxi_bucket_de_2023/2019/fhv_tripdata_2019-02.csv.gz\\n')\n"
      ]
     },
     "metadata": {},
     "output_type": "display_data"
    },
    {
     "data": {
      "text/html": [
       "<pre style=\"white-space:pre;overflow-x:auto;line-height:normal;font-family:Menlo,'DejaVu Sans Mono',consolas,'Courier New',monospace\">15:08:10.829 | <span style=\"color: #d70000; text-decoration-color: #d70000\">ERROR</span>   | Flow run<span style=\"color: #800080; text-decoration-color: #800080\"> 'hasty-wildcat'</span> - Encountered exception during execution:\n",
       "Traceback (most recent call last):\n",
       "  File \"/opt/homebrew/Caskroom/miniforge/base/lib/python3.9/site-packages/prefect/engine.py\", line 643, in orchestrate_flow_run\n",
       "    result = await run_sync(flow_call)\n",
       "  File \"/opt/homebrew/Caskroom/miniforge/base/lib/python3.9/site-packages/prefect/utilities/asyncutils.py\", line 156, in run_sync_in_interruptible_worker_thread\n",
       "    tg.start_soon(\n",
       "  File \"/opt/homebrew/Caskroom/miniforge/base/lib/python3.9/site-packages/anyio/_backends/_asyncio.py\", line 662, in __aexit__\n",
       "    raise exceptions[0]\n",
       "  File \"/opt/homebrew/Caskroom/miniforge/base/lib/python3.9/site-packages/anyio/to_thread.py\", line 31, in run_sync\n",
       "    return await get_asynclib().run_sync_in_worker_thread(\n",
       "  File \"/opt/homebrew/Caskroom/miniforge/base/lib/python3.9/site-packages/anyio/_backends/_asyncio.py\", line 937, in run_sync_in_worker_thread\n",
       "    return await future\n",
       "  File \"/opt/homebrew/Caskroom/miniforge/base/lib/python3.9/site-packages/anyio/_backends/_asyncio.py\", line 867, in run\n",
       "    result = context.run(func, *args)\n",
       "  File \"/opt/homebrew/Caskroom/miniforge/base/lib/python3.9/site-packages/prefect/utilities/asyncutils.py\", line 135, in capture_worker_thread_and_result\n",
       "    result = __fn(*args, **kwargs)\n",
       "  File \"/var/folders/h2/6110hgtx6b7400ybw7yjhn400000gn/T/ipykernel_21033/4186519071.py\", line 56, in etl_parent_bq_flow\n",
       "    etl_gcs_to_bq(year, month)\n",
       "  File \"/opt/homebrew/Caskroom/miniforge/base/lib/python3.9/site-packages/prefect/flows.py\", line 448, in __call__\n",
       "    return enter_flow_run_engine_from_flow_call(\n",
       "  File \"/opt/homebrew/Caskroom/miniforge/base/lib/python3.9/site-packages/prefect/engine.py\", line 175, in enter_flow_run_engine_from_flow_call\n",
       "    return run_async_from_worker_thread(begin_run)\n",
       "  File \"/opt/homebrew/Caskroom/miniforge/base/lib/python3.9/site-packages/prefect/utilities/asyncutils.py\", line 177, in run_async_from_worker_thread\n",
       "    return anyio.from_thread.run(call)\n",
       "  File \"/opt/homebrew/Caskroom/miniforge/base/lib/python3.9/site-packages/anyio/from_thread.py\", line 49, in run\n",
       "    return asynclib.run_async_from_thread(func, *args)\n",
       "  File \"/opt/homebrew/Caskroom/miniforge/base/lib/python3.9/site-packages/anyio/_backends/_asyncio.py\", line 970, in run_async_from_thread\n",
       "    return f.result()\n",
       "  File \"/opt/homebrew/Caskroom/miniforge/base/lib/python3.9/concurrent/futures/_base.py\", line 446, in result\n",
       "    return self.__get_result()\n",
       "  File \"/opt/homebrew/Caskroom/miniforge/base/lib/python3.9/concurrent/futures/_base.py\", line 391, in __get_result\n",
       "    raise self._exception\n",
       "  File \"/opt/homebrew/Caskroom/miniforge/base/lib/python3.9/site-packages/prefect/client/utilities.py\", line 47, in with_injected_client\n",
       "    return await fn(*args, **kwargs)\n",
       "  File \"/opt/homebrew/Caskroom/miniforge/base/lib/python3.9/site-packages/prefect/engine.py\", line 553, in create_and_begin_subflow_run\n",
       "    return await terminal_state.result(fetch=True)\n",
       "  File \"/opt/homebrew/Caskroom/miniforge/base/lib/python3.9/site-packages/prefect/states.py\", line 89, in _get_state_result\n",
       "    raise await get_state_exception(state)\n",
       "  File \"/opt/homebrew/Caskroom/miniforge/base/lib/python3.9/site-packages/prefect/engine.py\", line 643, in orchestrate_flow_run\n",
       "    result = await run_sync(flow_call)\n",
       "  File \"/opt/homebrew/Caskroom/miniforge/base/lib/python3.9/site-packages/prefect/utilities/asyncutils.py\", line 156, in run_sync_in_interruptible_worker_thread\n",
       "    tg.start_soon(\n",
       "  File \"/opt/homebrew/Caskroom/miniforge/base/lib/python3.9/site-packages/anyio/_backends/_asyncio.py\", line 662, in __aexit__\n",
       "    raise exceptions[0]\n",
       "  File \"/opt/homebrew/Caskroom/miniforge/base/lib/python3.9/site-packages/anyio/to_thread.py\", line 31, in run_sync\n",
       "    return await get_asynclib().run_sync_in_worker_thread(\n",
       "  File \"/opt/homebrew/Caskroom/miniforge/base/lib/python3.9/site-packages/anyio/_backends/_asyncio.py\", line 937, in run_sync_in_worker_thread\n",
       "    return await future\n",
       "  File \"/opt/homebrew/Caskroom/miniforge/base/lib/python3.9/site-packages/anyio/_backends/_asyncio.py\", line 867, in run\n",
       "    result = context.run(func, *args)\n",
       "  File \"/opt/homebrew/Caskroom/miniforge/base/lib/python3.9/site-packages/prefect/utilities/asyncutils.py\", line 135, in capture_worker_thread_and_result\n",
       "    result = __fn(*args, **kwargs)\n",
       "  File \"/var/folders/h2/6110hgtx6b7400ybw7yjhn400000gn/T/ipykernel_21033/4186519071.py\", line 44, in etl_gcs_to_bq\n",
       "    load_job.result()  # Waits for the job to complete.\n",
       "  File \"/opt/homebrew/Caskroom/miniforge/base/lib/python3.9/site-packages/google/cloud/bigquery/job/base.py\", line 728, in result\n",
       "    return super(_AsyncJob, self).result(timeout=timeout, **kwargs)\n",
       "  File \"/opt/homebrew/Caskroom/miniforge/base/lib/python3.9/site-packages/google/api_core/future/polling.py\", line 261, in result\n",
       "    raise self._exception\n",
       "google.api_core.exceptions.BadRequest: 400 Error while reading data, error message: Too many values in row starting at position: 0. Found 8 column(s) while expected 7. File: gs://ny_taxi_bucket_de_2023/2019/fhv_tripdata_2019-02.csv.gz\n",
       "</pre>\n"
      ],
      "text/plain": [
       "15:08:10.829 | \u001b[38;5;160mERROR\u001b[0m   | Flow run\u001b[35m 'hasty-wildcat'\u001b[0m - Encountered exception during execution:\n",
       "Traceback (most recent call last):\n",
       "  File \"/opt/homebrew/Caskroom/miniforge/base/lib/python3.9/site-packages/prefect/engine.py\", line 643, in orchestrate_flow_run\n",
       "    result = await run_sync(flow_call)\n",
       "  File \"/opt/homebrew/Caskroom/miniforge/base/lib/python3.9/site-packages/prefect/utilities/asyncutils.py\", line 156, in run_sync_in_interruptible_worker_thread\n",
       "    tg.start_soon(\n",
       "  File \"/opt/homebrew/Caskroom/miniforge/base/lib/python3.9/site-packages/anyio/_backends/_asyncio.py\", line 662, in __aexit__\n",
       "    raise exceptions[0]\n",
       "  File \"/opt/homebrew/Caskroom/miniforge/base/lib/python3.9/site-packages/anyio/to_thread.py\", line 31, in run_sync\n",
       "    return await get_asynclib().run_sync_in_worker_thread(\n",
       "  File \"/opt/homebrew/Caskroom/miniforge/base/lib/python3.9/site-packages/anyio/_backends/_asyncio.py\", line 937, in run_sync_in_worker_thread\n",
       "    return await future\n",
       "  File \"/opt/homebrew/Caskroom/miniforge/base/lib/python3.9/site-packages/anyio/_backends/_asyncio.py\", line 867, in run\n",
       "    result = context.run(func, *args)\n",
       "  File \"/opt/homebrew/Caskroom/miniforge/base/lib/python3.9/site-packages/prefect/utilities/asyncutils.py\", line 135, in capture_worker_thread_and_result\n",
       "    result = __fn(*args, **kwargs)\n",
       "  File \"/var/folders/h2/6110hgtx6b7400ybw7yjhn400000gn/T/ipykernel_21033/4186519071.py\", line 56, in etl_parent_bq_flow\n",
       "    etl_gcs_to_bq(year, month)\n",
       "  File \"/opt/homebrew/Caskroom/miniforge/base/lib/python3.9/site-packages/prefect/flows.py\", line 448, in __call__\n",
       "    return enter_flow_run_engine_from_flow_call(\n",
       "  File \"/opt/homebrew/Caskroom/miniforge/base/lib/python3.9/site-packages/prefect/engine.py\", line 175, in enter_flow_run_engine_from_flow_call\n",
       "    return run_async_from_worker_thread(begin_run)\n",
       "  File \"/opt/homebrew/Caskroom/miniforge/base/lib/python3.9/site-packages/prefect/utilities/asyncutils.py\", line 177, in run_async_from_worker_thread\n",
       "    return anyio.from_thread.run(call)\n",
       "  File \"/opt/homebrew/Caskroom/miniforge/base/lib/python3.9/site-packages/anyio/from_thread.py\", line 49, in run\n",
       "    return asynclib.run_async_from_thread(func, *args)\n",
       "  File \"/opt/homebrew/Caskroom/miniforge/base/lib/python3.9/site-packages/anyio/_backends/_asyncio.py\", line 970, in run_async_from_thread\n",
       "    return f.result()\n",
       "  File \"/opt/homebrew/Caskroom/miniforge/base/lib/python3.9/concurrent/futures/_base.py\", line 446, in result\n",
       "    return self.__get_result()\n",
       "  File \"/opt/homebrew/Caskroom/miniforge/base/lib/python3.9/concurrent/futures/_base.py\", line 391, in __get_result\n",
       "    raise self._exception\n",
       "  File \"/opt/homebrew/Caskroom/miniforge/base/lib/python3.9/site-packages/prefect/client/utilities.py\", line 47, in with_injected_client\n",
       "    return await fn(*args, **kwargs)\n",
       "  File \"/opt/homebrew/Caskroom/miniforge/base/lib/python3.9/site-packages/prefect/engine.py\", line 553, in create_and_begin_subflow_run\n",
       "    return await terminal_state.result(fetch=True)\n",
       "  File \"/opt/homebrew/Caskroom/miniforge/base/lib/python3.9/site-packages/prefect/states.py\", line 89, in _get_state_result\n",
       "    raise await get_state_exception(state)\n",
       "  File \"/opt/homebrew/Caskroom/miniforge/base/lib/python3.9/site-packages/prefect/engine.py\", line 643, in orchestrate_flow_run\n",
       "    result = await run_sync(flow_call)\n",
       "  File \"/opt/homebrew/Caskroom/miniforge/base/lib/python3.9/site-packages/prefect/utilities/asyncutils.py\", line 156, in run_sync_in_interruptible_worker_thread\n",
       "    tg.start_soon(\n",
       "  File \"/opt/homebrew/Caskroom/miniforge/base/lib/python3.9/site-packages/anyio/_backends/_asyncio.py\", line 662, in __aexit__\n",
       "    raise exceptions[0]\n",
       "  File \"/opt/homebrew/Caskroom/miniforge/base/lib/python3.9/site-packages/anyio/to_thread.py\", line 31, in run_sync\n",
       "    return await get_asynclib().run_sync_in_worker_thread(\n",
       "  File \"/opt/homebrew/Caskroom/miniforge/base/lib/python3.9/site-packages/anyio/_backends/_asyncio.py\", line 937, in run_sync_in_worker_thread\n",
       "    return await future\n",
       "  File \"/opt/homebrew/Caskroom/miniforge/base/lib/python3.9/site-packages/anyio/_backends/_asyncio.py\", line 867, in run\n",
       "    result = context.run(func, *args)\n",
       "  File \"/opt/homebrew/Caskroom/miniforge/base/lib/python3.9/site-packages/prefect/utilities/asyncutils.py\", line 135, in capture_worker_thread_and_result\n",
       "    result = __fn(*args, **kwargs)\n",
       "  File \"/var/folders/h2/6110hgtx6b7400ybw7yjhn400000gn/T/ipykernel_21033/4186519071.py\", line 44, in etl_gcs_to_bq\n",
       "    load_job.result()  # Waits for the job to complete.\n",
       "  File \"/opt/homebrew/Caskroom/miniforge/base/lib/python3.9/site-packages/google/cloud/bigquery/job/base.py\", line 728, in result\n",
       "    return super(_AsyncJob, self).result(timeout=timeout, **kwargs)\n",
       "  File \"/opt/homebrew/Caskroom/miniforge/base/lib/python3.9/site-packages/google/api_core/future/polling.py\", line 261, in result\n",
       "    raise self._exception\n",
       "google.api_core.exceptions.BadRequest: 400 Error while reading data, error message: Too many values in row starting at position: 0. Found 8 column(s) while expected 7. File: gs://ny_taxi_bucket_de_2023/2019/fhv_tripdata_2019-02.csv.gz\n"
      ]
     },
     "metadata": {},
     "output_type": "display_data"
    },
    {
     "data": {
      "text/html": [
       "<pre style=\"white-space:pre;overflow-x:auto;line-height:normal;font-family:Menlo,'DejaVu Sans Mono',consolas,'Courier New',monospace\">15:08:11.188 | <span style=\"color: #d70000; text-decoration-color: #d70000\">ERROR</span>   | Flow run<span style=\"color: #800080; text-decoration-color: #800080\"> 'hasty-wildcat'</span> - Finished in state <span style=\"color: #d70000; text-decoration-color: #d70000\">Failed</span>('Flow run encountered an exception. google.api_core.exceptions.BadRequest: 400 Error while reading data, error message: Too many values in row starting at position: 0. Found 8 column(s) while expected 7. File: gs://ny_taxi_bucket_de_2023/2019/fhv_tripdata_2019-02.csv.gz\\n')\n",
       "</pre>\n"
      ],
      "text/plain": [
       "15:08:11.188 | \u001b[38;5;160mERROR\u001b[0m   | Flow run\u001b[35m 'hasty-wildcat'\u001b[0m - Finished in state \u001b[38;5;160mFailed\u001b[0m('Flow run encountered an exception. google.api_core.exceptions.BadRequest: 400 Error while reading data, error message: Too many values in row starting at position: 0. Found 8 column(s) while expected 7. File: gs://ny_taxi_bucket_de_2023/2019/fhv_tripdata_2019-02.csv.gz\\n')\n"
      ]
     },
     "metadata": {},
     "output_type": "display_data"
    },
    {
     "ename": "BadRequest",
     "evalue": "400 Error while reading data, error message: Too many values in row starting at position: 0. Found 8 column(s) while expected 7. File: gs://ny_taxi_bucket_de_2023/2019/fhv_tripdata_2019-02.csv.gz",
     "output_type": "error",
     "traceback": [
      "\u001b[0;31m---------------------------------------------------------------------------\u001b[0m",
      "\u001b[0;31mBadRequest\u001b[0m                                Traceback (most recent call last)",
      "Cell \u001b[0;32mIn [11], line 64\u001b[0m\n\u001b[1;32m     61\u001b[0m year \u001b[39m=\u001b[39m \u001b[39m2019\u001b[39m\n\u001b[1;32m     62\u001b[0m months \u001b[39m=\u001b[39m [\u001b[39m2\u001b[39m]\n\u001b[0;32m---> 64\u001b[0m etl_parent_bq_flow(year, months)\n",
      "File \u001b[0;32m/opt/homebrew/Caskroom/miniforge/base/lib/python3.9/site-packages/prefect/flows.py:448\u001b[0m, in \u001b[0;36mFlow.__call__\u001b[0;34m(self, return_state, wait_for, *args, **kwargs)\u001b[0m\n\u001b[1;32m    444\u001b[0m parameters \u001b[39m=\u001b[39m get_call_parameters(\u001b[39mself\u001b[39m\u001b[39m.\u001b[39mfn, args, kwargs)\n\u001b[1;32m    446\u001b[0m return_type \u001b[39m=\u001b[39m \u001b[39m\"\u001b[39m\u001b[39mstate\u001b[39m\u001b[39m\"\u001b[39m \u001b[39mif\u001b[39;00m return_state \u001b[39melse\u001b[39;00m \u001b[39m\"\u001b[39m\u001b[39mresult\u001b[39m\u001b[39m\"\u001b[39m\n\u001b[0;32m--> 448\u001b[0m \u001b[39mreturn\u001b[39;00m enter_flow_run_engine_from_flow_call(\n\u001b[1;32m    449\u001b[0m     \u001b[39mself\u001b[39;49m,\n\u001b[1;32m    450\u001b[0m     parameters,\n\u001b[1;32m    451\u001b[0m     wait_for\u001b[39m=\u001b[39;49mwait_for,\n\u001b[1;32m    452\u001b[0m     return_type\u001b[39m=\u001b[39;49mreturn_type,\n\u001b[1;32m    453\u001b[0m )\n",
      "File \u001b[0;32m/opt/homebrew/Caskroom/miniforge/base/lib/python3.9/site-packages/prefect/engine.py:168\u001b[0m, in \u001b[0;36menter_flow_run_engine_from_flow_call\u001b[0;34m(flow, parameters, wait_for, return_type)\u001b[0m\n\u001b[1;32m    164\u001b[0m \u001b[39melif\u001b[39;00m in_async_main_thread():\n\u001b[1;32m    165\u001b[0m     \u001b[39m# An event loop is already running and we must create a blocking portal to\u001b[39;00m\n\u001b[1;32m    166\u001b[0m     \u001b[39m# run async code from this synchronous context\u001b[39;00m\n\u001b[1;32m    167\u001b[0m     \u001b[39mwith\u001b[39;00m start_blocking_portal() \u001b[39mas\u001b[39;00m portal:\n\u001b[0;32m--> 168\u001b[0m         \u001b[39mreturn\u001b[39;00m portal\u001b[39m.\u001b[39;49mcall(begin_run)\n\u001b[1;32m    169\u001b[0m \u001b[39melse\u001b[39;00m:\n\u001b[1;32m    170\u001b[0m     \u001b[39m# An event loop is not running so we will create one\u001b[39;00m\n\u001b[1;32m    171\u001b[0m     \u001b[39mreturn\u001b[39;00m anyio\u001b[39m.\u001b[39mrun(begin_run)\n",
      "File \u001b[0;32m/opt/homebrew/Caskroom/miniforge/base/lib/python3.9/site-packages/anyio/from_thread.py:283\u001b[0m, in \u001b[0;36mBlockingPortal.call\u001b[0;34m(self, func, *args)\u001b[0m\n\u001b[1;32m    268\u001b[0m \u001b[39mdef\u001b[39;00m \u001b[39mcall\u001b[39m(\n\u001b[1;32m    269\u001b[0m     \u001b[39mself\u001b[39m,\n\u001b[1;32m    270\u001b[0m     func: Callable[\u001b[39m.\u001b[39m\u001b[39m.\u001b[39m\u001b[39m.\u001b[39m, Union[Coroutine[Any, Any, T_Retval], T_Retval]],\n\u001b[1;32m    271\u001b[0m     \u001b[39m*\u001b[39margs: \u001b[39mobject\u001b[39m\n\u001b[1;32m    272\u001b[0m ) \u001b[39m-\u001b[39m\u001b[39m>\u001b[39m T_Retval:\n\u001b[1;32m    273\u001b[0m     \u001b[39m\"\"\"\u001b[39;00m\n\u001b[1;32m    274\u001b[0m \u001b[39m    Call the given function in the event loop thread.\u001b[39;00m\n\u001b[1;32m    275\u001b[0m \n\u001b[0;32m   (...)\u001b[0m\n\u001b[1;32m    281\u001b[0m \n\u001b[1;32m    282\u001b[0m \u001b[39m    \"\"\"\u001b[39;00m\n\u001b[0;32m--> 283\u001b[0m     \u001b[39mreturn\u001b[39;00m cast(T_Retval, \u001b[39mself\u001b[39;49m\u001b[39m.\u001b[39;49mstart_task_soon(func, \u001b[39m*\u001b[39;49margs)\u001b[39m.\u001b[39;49mresult())\n",
      "File \u001b[0;32m/opt/homebrew/Caskroom/miniforge/base/lib/python3.9/concurrent/futures/_base.py:446\u001b[0m, in \u001b[0;36mFuture.result\u001b[0;34m(self, timeout)\u001b[0m\n\u001b[1;32m    444\u001b[0m     \u001b[39mraise\u001b[39;00m CancelledError()\n\u001b[1;32m    445\u001b[0m \u001b[39melif\u001b[39;00m \u001b[39mself\u001b[39m\u001b[39m.\u001b[39m_state \u001b[39m==\u001b[39m FINISHED:\n\u001b[0;32m--> 446\u001b[0m     \u001b[39mreturn\u001b[39;00m \u001b[39mself\u001b[39;49m\u001b[39m.\u001b[39;49m__get_result()\n\u001b[1;32m    447\u001b[0m \u001b[39melse\u001b[39;00m:\n\u001b[1;32m    448\u001b[0m     \u001b[39mraise\u001b[39;00m \u001b[39mTimeoutError\u001b[39;00m()\n",
      "File \u001b[0;32m/opt/homebrew/Caskroom/miniforge/base/lib/python3.9/concurrent/futures/_base.py:391\u001b[0m, in \u001b[0;36mFuture.__get_result\u001b[0;34m(self)\u001b[0m\n\u001b[1;32m    389\u001b[0m \u001b[39mif\u001b[39;00m \u001b[39mself\u001b[39m\u001b[39m.\u001b[39m_exception:\n\u001b[1;32m    390\u001b[0m     \u001b[39mtry\u001b[39;00m:\n\u001b[0;32m--> 391\u001b[0m         \u001b[39mraise\u001b[39;00m \u001b[39mself\u001b[39m\u001b[39m.\u001b[39m_exception\n\u001b[1;32m    392\u001b[0m     \u001b[39mfinally\u001b[39;00m:\n\u001b[1;32m    393\u001b[0m         \u001b[39m# Break a reference cycle with the exception in self._exception\u001b[39;00m\n\u001b[1;32m    394\u001b[0m         \u001b[39mself\u001b[39m \u001b[39m=\u001b[39m \u001b[39mNone\u001b[39;00m\n",
      "File \u001b[0;32m/opt/homebrew/Caskroom/miniforge/base/lib/python3.9/site-packages/anyio/from_thread.py:219\u001b[0m, in \u001b[0;36mBlockingPortal._call_func\u001b[0;34m(self, func, args, kwargs, future)\u001b[0m\n\u001b[1;32m    216\u001b[0m             \u001b[39melse\u001b[39;00m:\n\u001b[1;32m    217\u001b[0m                 future\u001b[39m.\u001b[39madd_done_callback(callback)\n\u001b[0;32m--> 219\u001b[0m             retval \u001b[39m=\u001b[39m \u001b[39mawait\u001b[39;00m retval\n\u001b[1;32m    220\u001b[0m \u001b[39mexcept\u001b[39;00m \u001b[39mself\u001b[39m\u001b[39m.\u001b[39m_cancelled_exc_class:\n\u001b[1;32m    221\u001b[0m     future\u001b[39m.\u001b[39mcancel()\n",
      "File \u001b[0;32m/opt/homebrew/Caskroom/miniforge/base/lib/python3.9/site-packages/prefect/client/utilities.py:47\u001b[0m, in \u001b[0;36minject_client.<locals>.with_injected_client\u001b[0;34m(*args, **kwargs)\u001b[0m\n\u001b[1;32m     45\u001b[0m \u001b[39masync\u001b[39;00m \u001b[39mwith\u001b[39;00m client_context \u001b[39mas\u001b[39;00m new_client:\n\u001b[1;32m     46\u001b[0m     kwargs\u001b[39m.\u001b[39msetdefault(\u001b[39m\"\u001b[39m\u001b[39mclient\u001b[39m\u001b[39m\"\u001b[39m, new_client \u001b[39mor\u001b[39;00m client)\n\u001b[0;32m---> 47\u001b[0m     \u001b[39mreturn\u001b[39;00m \u001b[39mawait\u001b[39;00m fn(\u001b[39m*\u001b[39margs, \u001b[39m*\u001b[39m\u001b[39m*\u001b[39mkwargs)\n",
      "File \u001b[0;32m/opt/homebrew/Caskroom/miniforge/base/lib/python3.9/site-packages/prefect/engine.py:251\u001b[0m, in \u001b[0;36mcreate_then_begin_flow_run\u001b[0;34m(flow, parameters, wait_for, return_type, client)\u001b[0m\n\u001b[1;32m    249\u001b[0m     \u001b[39mreturn\u001b[39;00m state\n\u001b[1;32m    250\u001b[0m \u001b[39melif\u001b[39;00m return_type \u001b[39m==\u001b[39m \u001b[39m\"\u001b[39m\u001b[39mresult\u001b[39m\u001b[39m\"\u001b[39m:\n\u001b[0;32m--> 251\u001b[0m     \u001b[39mreturn\u001b[39;00m \u001b[39mawait\u001b[39;00m state\u001b[39m.\u001b[39mresult(fetch\u001b[39m=\u001b[39m\u001b[39mTrue\u001b[39;00m)\n\u001b[1;32m    252\u001b[0m \u001b[39melse\u001b[39;00m:\n\u001b[1;32m    253\u001b[0m     \u001b[39mraise\u001b[39;00m \u001b[39mValueError\u001b[39;00m(\u001b[39mf\u001b[39m\u001b[39m\"\u001b[39m\u001b[39mInvalid return type for flow engine \u001b[39m\u001b[39m{\u001b[39;00mreturn_type\u001b[39m!r}\u001b[39;00m\u001b[39m.\u001b[39m\u001b[39m\"\u001b[39m)\n",
      "File \u001b[0;32m/opt/homebrew/Caskroom/miniforge/base/lib/python3.9/site-packages/prefect/states.py:89\u001b[0m, in \u001b[0;36m_get_state_result\u001b[0;34m(state, raise_on_failure)\u001b[0m\n\u001b[1;32m     84\u001b[0m     \u001b[39mraise\u001b[39;00m PausedRun(\u001b[39m\"\u001b[39m\u001b[39mRun paused.\u001b[39m\u001b[39m\"\u001b[39m)\n\u001b[1;32m     86\u001b[0m \u001b[39mif\u001b[39;00m raise_on_failure \u001b[39mand\u001b[39;00m (\n\u001b[1;32m     87\u001b[0m     state\u001b[39m.\u001b[39mis_crashed() \u001b[39mor\u001b[39;00m state\u001b[39m.\u001b[39mis_failed() \u001b[39mor\u001b[39;00m state\u001b[39m.\u001b[39mis_cancelled()\n\u001b[1;32m     88\u001b[0m ):\n\u001b[0;32m---> 89\u001b[0m     \u001b[39mraise\u001b[39;00m \u001b[39mawait\u001b[39;00m get_state_exception(state)\n\u001b[1;32m     91\u001b[0m \u001b[39mif\u001b[39;00m \u001b[39misinstance\u001b[39m(state\u001b[39m.\u001b[39mdata, DataDocument):\n\u001b[1;32m     92\u001b[0m     result \u001b[39m=\u001b[39m result_from_state_with_data_document(\n\u001b[1;32m     93\u001b[0m         state, raise_on_failure\u001b[39m=\u001b[39mraise_on_failure\n\u001b[1;32m     94\u001b[0m     )\n",
      "File \u001b[0;32m/opt/homebrew/Caskroom/miniforge/base/lib/python3.9/site-packages/prefect/engine.py:643\u001b[0m, in \u001b[0;36morchestrate_flow_run\u001b[0;34m(flow, flow_run, parameters, wait_for, interruptible, client, partial_flow_run_context)\u001b[0m\n\u001b[1;32m    637\u001b[0m             \u001b[39melse\u001b[39;00m:\n\u001b[1;32m    638\u001b[0m                 run_sync \u001b[39m=\u001b[39m (\n\u001b[1;32m    639\u001b[0m                     run_sync_in_interruptible_worker_thread\n\u001b[1;32m    640\u001b[0m                     \u001b[39mif\u001b[39;00m interruptible \u001b[39mor\u001b[39;00m timeout_scope\n\u001b[1;32m    641\u001b[0m                     \u001b[39melse\u001b[39;00m run_sync_in_worker_thread\n\u001b[1;32m    642\u001b[0m                 )\n\u001b[0;32m--> 643\u001b[0m                 result \u001b[39m=\u001b[39m \u001b[39mawait\u001b[39;00m run_sync(flow_call)\n\u001b[1;32m    645\u001b[0m         waited_for_task_runs \u001b[39m=\u001b[39m \u001b[39mawait\u001b[39;00m wait_for_task_runs_and_report_crashes(\n\u001b[1;32m    646\u001b[0m             flow_run_context\u001b[39m.\u001b[39mtask_run_futures, client\u001b[39m=\u001b[39mclient\n\u001b[1;32m    647\u001b[0m         )\n\u001b[1;32m    648\u001b[0m \u001b[39mexcept\u001b[39;00m PausedRun:\n",
      "File \u001b[0;32m/opt/homebrew/Caskroom/miniforge/base/lib/python3.9/site-packages/prefect/utilities/asyncutils.py:156\u001b[0m, in \u001b[0;36mrun_sync_in_interruptible_worker_thread\u001b[0;34m(__fn, *args, **kwargs)\u001b[0m\n\u001b[1;32m    154\u001b[0m \u001b[39masync\u001b[39;00m \u001b[39mwith\u001b[39;00m anyio\u001b[39m.\u001b[39mcreate_task_group() \u001b[39mas\u001b[39;00m tg:\n\u001b[1;32m    155\u001b[0m     tg\u001b[39m.\u001b[39mstart_soon(send_interrupt_to_thread)\n\u001b[0;32m--> 156\u001b[0m     tg\u001b[39m.\u001b[39mstart_soon(\n\u001b[1;32m    157\u001b[0m         partial(\n\u001b[1;32m    158\u001b[0m             anyio\u001b[39m.\u001b[39mto_thread\u001b[39m.\u001b[39mrun_sync,\n\u001b[1;32m    159\u001b[0m             capture_worker_thread_and_result,\n\u001b[1;32m    160\u001b[0m             cancellable\u001b[39m=\u001b[39m\u001b[39mTrue\u001b[39;00m,\n\u001b[1;32m    161\u001b[0m             limiter\u001b[39m=\u001b[39mget_thread_limiter(),\n\u001b[1;32m    162\u001b[0m         )\n\u001b[1;32m    163\u001b[0m     )\n\u001b[1;32m    165\u001b[0m \u001b[39massert\u001b[39;00m result \u001b[39mis\u001b[39;00m \u001b[39mnot\u001b[39;00m NotSet\n\u001b[1;32m    166\u001b[0m \u001b[39mreturn\u001b[39;00m result\n",
      "File \u001b[0;32m/opt/homebrew/Caskroom/miniforge/base/lib/python3.9/site-packages/anyio/_backends/_asyncio.py:662\u001b[0m, in \u001b[0;36mTaskGroup.__aexit__\u001b[0;34m(self, exc_type, exc_val, exc_tb)\u001b[0m\n\u001b[1;32m    660\u001b[0m             \u001b[39mraise\u001b[39;00m ExceptionGroup(exceptions)\n\u001b[1;32m    661\u001b[0m     \u001b[39melif\u001b[39;00m exceptions \u001b[39mand\u001b[39;00m exceptions[\u001b[39m0\u001b[39m] \u001b[39mis\u001b[39;00m \u001b[39mnot\u001b[39;00m exc_val:\n\u001b[0;32m--> 662\u001b[0m         \u001b[39mraise\u001b[39;00m exceptions[\u001b[39m0\u001b[39m]\n\u001b[1;32m    663\u001b[0m \u001b[39mexcept\u001b[39;00m \u001b[39mBaseException\u001b[39;00m \u001b[39mas\u001b[39;00m exc:\n\u001b[1;32m    664\u001b[0m     \u001b[39m# Clear the context here, as it can only be done in-flight.\u001b[39;00m\n\u001b[1;32m    665\u001b[0m     \u001b[39m# If the context is not cleared, it can result in recursive tracebacks (see #145).\u001b[39;00m\n\u001b[1;32m    666\u001b[0m     exc\u001b[39m.\u001b[39m__context__ \u001b[39m=\u001b[39m \u001b[39mNone\u001b[39;00m\n",
      "File \u001b[0;32m/opt/homebrew/Caskroom/miniforge/base/lib/python3.9/site-packages/anyio/to_thread.py:31\u001b[0m, in \u001b[0;36mrun_sync\u001b[0;34m(func, cancellable, limiter, *args)\u001b[0m\n\u001b[1;32m     10\u001b[0m \u001b[39masync\u001b[39;00m \u001b[39mdef\u001b[39;00m \u001b[39mrun_sync\u001b[39m(\n\u001b[1;32m     11\u001b[0m     func: Callable[\u001b[39m.\u001b[39m\u001b[39m.\u001b[39m\u001b[39m.\u001b[39m, T_Retval],\n\u001b[1;32m     12\u001b[0m     \u001b[39m*\u001b[39margs: \u001b[39mobject\u001b[39m,\n\u001b[1;32m     13\u001b[0m     cancellable: \u001b[39mbool\u001b[39m \u001b[39m=\u001b[39m \u001b[39mFalse\u001b[39;00m,\n\u001b[1;32m     14\u001b[0m     limiter: Optional[CapacityLimiter] \u001b[39m=\u001b[39m \u001b[39mNone\u001b[39;00m\n\u001b[1;32m     15\u001b[0m ) \u001b[39m-\u001b[39m\u001b[39m>\u001b[39m T_Retval:\n\u001b[1;32m     16\u001b[0m     \u001b[39m\"\"\"\u001b[39;00m\n\u001b[1;32m     17\u001b[0m \u001b[39m    Call the given function with the given arguments in a worker thread.\u001b[39;00m\n\u001b[1;32m     18\u001b[0m \n\u001b[0;32m   (...)\u001b[0m\n\u001b[1;32m     29\u001b[0m \n\u001b[1;32m     30\u001b[0m \u001b[39m    \"\"\"\u001b[39;00m\n\u001b[0;32m---> 31\u001b[0m     \u001b[39mreturn\u001b[39;00m \u001b[39mawait\u001b[39;00m get_asynclib()\u001b[39m.\u001b[39mrun_sync_in_worker_thread(\n\u001b[1;32m     32\u001b[0m         func, \u001b[39m*\u001b[39margs, cancellable\u001b[39m=\u001b[39mcancellable, limiter\u001b[39m=\u001b[39mlimiter\n\u001b[1;32m     33\u001b[0m     )\n",
      "File \u001b[0;32m/opt/homebrew/Caskroom/miniforge/base/lib/python3.9/site-packages/anyio/_backends/_asyncio.py:937\u001b[0m, in \u001b[0;36mrun_sync_in_worker_thread\u001b[0;34m(func, cancellable, limiter, *args)\u001b[0m\n\u001b[1;32m    935\u001b[0m context\u001b[39m.\u001b[39mrun(sniffio\u001b[39m.\u001b[39mcurrent_async_library_cvar\u001b[39m.\u001b[39mset, \u001b[39mNone\u001b[39;00m)\n\u001b[1;32m    936\u001b[0m worker\u001b[39m.\u001b[39mqueue\u001b[39m.\u001b[39mput_nowait((context, func, args, future))\n\u001b[0;32m--> 937\u001b[0m \u001b[39mreturn\u001b[39;00m \u001b[39mawait\u001b[39;00m future\n",
      "File \u001b[0;32m/opt/homebrew/Caskroom/miniforge/base/lib/python3.9/site-packages/anyio/_backends/_asyncio.py:867\u001b[0m, in \u001b[0;36mWorkerThread.run\u001b[0;34m(self)\u001b[0m\n\u001b[1;32m    865\u001b[0m exception: Optional[\u001b[39mBaseException\u001b[39;00m] \u001b[39m=\u001b[39m \u001b[39mNone\u001b[39;00m\n\u001b[1;32m    866\u001b[0m \u001b[39mtry\u001b[39;00m:\n\u001b[0;32m--> 867\u001b[0m     result \u001b[39m=\u001b[39m context\u001b[39m.\u001b[39;49mrun(func, \u001b[39m*\u001b[39;49margs)\n\u001b[1;32m    868\u001b[0m \u001b[39mexcept\u001b[39;00m \u001b[39mBaseException\u001b[39;00m \u001b[39mas\u001b[39;00m exc:\n\u001b[1;32m    869\u001b[0m     exception \u001b[39m=\u001b[39m exc\n",
      "File \u001b[0;32m/opt/homebrew/Caskroom/miniforge/base/lib/python3.9/site-packages/prefect/utilities/asyncutils.py:135\u001b[0m, in \u001b[0;36mrun_sync_in_interruptible_worker_thread.<locals>.capture_worker_thread_and_result\u001b[0;34m()\u001b[0m\n\u001b[1;32m    133\u001b[0m \u001b[39mtry\u001b[39;00m:\n\u001b[1;32m    134\u001b[0m     thread \u001b[39m=\u001b[39m threading\u001b[39m.\u001b[39mcurrent_thread()\n\u001b[0;32m--> 135\u001b[0m     result \u001b[39m=\u001b[39m __fn(\u001b[39m*\u001b[39;49margs, \u001b[39m*\u001b[39;49m\u001b[39m*\u001b[39;49mkwargs)\n\u001b[1;32m    136\u001b[0m \u001b[39mexcept\u001b[39;00m \u001b[39mBaseException\u001b[39;00m \u001b[39mas\u001b[39;00m exc:\n\u001b[1;32m    137\u001b[0m     result \u001b[39m=\u001b[39m exc\n",
      "Cell \u001b[0;32mIn [11], line 56\u001b[0m, in \u001b[0;36metl_parent_bq_flow\u001b[0;34m(year, months)\u001b[0m\n\u001b[1;32m     51\u001b[0m \u001b[39m@flow\u001b[39m(log_prints\u001b[39m=\u001b[39m\u001b[39mTrue\u001b[39;00m, name\u001b[39m=\u001b[39m\u001b[39m\"\u001b[39m\u001b[39metl-parent-to-bq\u001b[39m\u001b[39m\"\u001b[39m)\n\u001b[1;32m     52\u001b[0m \u001b[39mdef\u001b[39;00m \u001b[39metl_parent_bq_flow\u001b[39m(\n\u001b[1;32m     53\u001b[0m     year: \u001b[39mint\u001b[39m \u001b[39m=\u001b[39m \u001b[39m2019\u001b[39m, months: \u001b[39mlist\u001b[39m[\u001b[39mint\u001b[39m] \u001b[39m=\u001b[39m [\u001b[39m1\u001b[39m, \u001b[39m2\u001b[39m, \u001b[39m3\u001b[39m, \u001b[39m4\u001b[39m, \u001b[39m5\u001b[39m, \u001b[39m6\u001b[39m, \u001b[39m7\u001b[39m, \u001b[39m8\u001b[39m, \u001b[39m9\u001b[39m, \u001b[39m10\u001b[39m, \u001b[39m11\u001b[39m, \u001b[39m12\u001b[39m]\n\u001b[1;32m     54\u001b[0m ):\n\u001b[1;32m     55\u001b[0m     \u001b[39mfor\u001b[39;00m month \u001b[39min\u001b[39;00m months:\n\u001b[0;32m---> 56\u001b[0m         etl_gcs_to_bq(year, month)\n",
      "File \u001b[0;32m/opt/homebrew/Caskroom/miniforge/base/lib/python3.9/site-packages/prefect/flows.py:448\u001b[0m, in \u001b[0;36mFlow.__call__\u001b[0;34m(self, return_state, wait_for, *args, **kwargs)\u001b[0m\n\u001b[1;32m    444\u001b[0m parameters \u001b[39m=\u001b[39m get_call_parameters(\u001b[39mself\u001b[39m\u001b[39m.\u001b[39mfn, args, kwargs)\n\u001b[1;32m    446\u001b[0m return_type \u001b[39m=\u001b[39m \u001b[39m\"\u001b[39m\u001b[39mstate\u001b[39m\u001b[39m\"\u001b[39m \u001b[39mif\u001b[39;00m return_state \u001b[39melse\u001b[39;00m \u001b[39m\"\u001b[39m\u001b[39mresult\u001b[39m\u001b[39m\"\u001b[39m\n\u001b[0;32m--> 448\u001b[0m \u001b[39mreturn\u001b[39;00m enter_flow_run_engine_from_flow_call(\n\u001b[1;32m    449\u001b[0m     \u001b[39mself\u001b[39;49m,\n\u001b[1;32m    450\u001b[0m     parameters,\n\u001b[1;32m    451\u001b[0m     wait_for\u001b[39m=\u001b[39;49mwait_for,\n\u001b[1;32m    452\u001b[0m     return_type\u001b[39m=\u001b[39;49mreturn_type,\n\u001b[1;32m    453\u001b[0m )\n",
      "File \u001b[0;32m/opt/homebrew/Caskroom/miniforge/base/lib/python3.9/site-packages/prefect/engine.py:175\u001b[0m, in \u001b[0;36menter_flow_run_engine_from_flow_call\u001b[0;34m(flow, parameters, wait_for, return_type)\u001b[0m\n\u001b[1;32m    171\u001b[0m         \u001b[39mreturn\u001b[39;00m anyio\u001b[39m.\u001b[39mrun(begin_run)\n\u001b[1;32m    173\u001b[0m \u001b[39mif\u001b[39;00m \u001b[39mnot\u001b[39;00m parent_flow_run_context\u001b[39m.\u001b[39mflow\u001b[39m.\u001b[39misasync:\n\u001b[1;32m    174\u001b[0m     \u001b[39m# Async subflow run in sync flow run\u001b[39;00m\n\u001b[0;32m--> 175\u001b[0m     \u001b[39mreturn\u001b[39;00m run_async_from_worker_thread(begin_run)\n\u001b[1;32m    176\u001b[0m \u001b[39melif\u001b[39;00m parent_flow_run_context\u001b[39m.\u001b[39mflow\u001b[39m.\u001b[39misasync \u001b[39mand\u001b[39;00m flow\u001b[39m.\u001b[39misasync:\n\u001b[1;32m    177\u001b[0m     \u001b[39m# Async subflow run in async flow run\u001b[39;00m\n\u001b[1;32m    178\u001b[0m     \u001b[39mreturn\u001b[39;00m begin_run()\n",
      "File \u001b[0;32m/opt/homebrew/Caskroom/miniforge/base/lib/python3.9/site-packages/prefect/utilities/asyncutils.py:177\u001b[0m, in \u001b[0;36mrun_async_from_worker_thread\u001b[0;34m(__fn, *args, **kwargs)\u001b[0m\n\u001b[1;32m    172\u001b[0m \u001b[39m\"\"\"\u001b[39;00m\n\u001b[1;32m    173\u001b[0m \u001b[39mRuns an async function in the main thread's event loop, blocking the worker\u001b[39;00m\n\u001b[1;32m    174\u001b[0m \u001b[39mthread until completion\u001b[39;00m\n\u001b[1;32m    175\u001b[0m \u001b[39m\"\"\"\u001b[39;00m\n\u001b[1;32m    176\u001b[0m call \u001b[39m=\u001b[39m partial(__fn, \u001b[39m*\u001b[39margs, \u001b[39m*\u001b[39m\u001b[39m*\u001b[39mkwargs)\n\u001b[0;32m--> 177\u001b[0m \u001b[39mreturn\u001b[39;00m anyio\u001b[39m.\u001b[39;49mfrom_thread\u001b[39m.\u001b[39;49mrun(call)\n",
      "File \u001b[0;32m/opt/homebrew/Caskroom/miniforge/base/lib/python3.9/site-packages/anyio/from_thread.py:49\u001b[0m, in \u001b[0;36mrun\u001b[0;34m(func, *args)\u001b[0m\n\u001b[1;32m     46\u001b[0m \u001b[39mexcept\u001b[39;00m \u001b[39mAttributeError\u001b[39;00m:\n\u001b[1;32m     47\u001b[0m     \u001b[39mraise\u001b[39;00m \u001b[39mRuntimeError\u001b[39;00m(\u001b[39m\"\u001b[39m\u001b[39mThis function can only be run from an AnyIO worker thread\u001b[39m\u001b[39m\"\u001b[39m)\n\u001b[0;32m---> 49\u001b[0m \u001b[39mreturn\u001b[39;00m asynclib\u001b[39m.\u001b[39;49mrun_async_from_thread(func, \u001b[39m*\u001b[39;49margs)\n",
      "File \u001b[0;32m/opt/homebrew/Caskroom/miniforge/base/lib/python3.9/site-packages/anyio/_backends/_asyncio.py:970\u001b[0m, in \u001b[0;36mrun_async_from_thread\u001b[0;34m(func, *args)\u001b[0m\n\u001b[1;32m    964\u001b[0m \u001b[39mdef\u001b[39;00m \u001b[39mrun_async_from_thread\u001b[39m(\n\u001b[1;32m    965\u001b[0m     func: Callable[\u001b[39m.\u001b[39m\u001b[39m.\u001b[39m\u001b[39m.\u001b[39m, Coroutine[Any, Any, T_Retval]], \u001b[39m*\u001b[39margs: \u001b[39mobject\u001b[39m\n\u001b[1;32m    966\u001b[0m ) \u001b[39m-\u001b[39m\u001b[39m>\u001b[39m T_Retval:\n\u001b[1;32m    967\u001b[0m     f: concurrent\u001b[39m.\u001b[39mfutures\u001b[39m.\u001b[39mFuture[T_Retval] \u001b[39m=\u001b[39m asyncio\u001b[39m.\u001b[39mrun_coroutine_threadsafe(\n\u001b[1;32m    968\u001b[0m         func(\u001b[39m*\u001b[39margs), threadlocals\u001b[39m.\u001b[39mloop\n\u001b[1;32m    969\u001b[0m     )\n\u001b[0;32m--> 970\u001b[0m     \u001b[39mreturn\u001b[39;00m f\u001b[39m.\u001b[39;49mresult()\n",
      "File \u001b[0;32m/opt/homebrew/Caskroom/miniforge/base/lib/python3.9/concurrent/futures/_base.py:446\u001b[0m, in \u001b[0;36mFuture.result\u001b[0;34m(self, timeout)\u001b[0m\n\u001b[1;32m    444\u001b[0m     \u001b[39mraise\u001b[39;00m CancelledError()\n\u001b[1;32m    445\u001b[0m \u001b[39melif\u001b[39;00m \u001b[39mself\u001b[39m\u001b[39m.\u001b[39m_state \u001b[39m==\u001b[39m FINISHED:\n\u001b[0;32m--> 446\u001b[0m     \u001b[39mreturn\u001b[39;00m \u001b[39mself\u001b[39;49m\u001b[39m.\u001b[39;49m__get_result()\n\u001b[1;32m    447\u001b[0m \u001b[39melse\u001b[39;00m:\n\u001b[1;32m    448\u001b[0m     \u001b[39mraise\u001b[39;00m \u001b[39mTimeoutError\u001b[39;00m()\n",
      "File \u001b[0;32m/opt/homebrew/Caskroom/miniforge/base/lib/python3.9/concurrent/futures/_base.py:391\u001b[0m, in \u001b[0;36mFuture.__get_result\u001b[0;34m(self)\u001b[0m\n\u001b[1;32m    389\u001b[0m \u001b[39mif\u001b[39;00m \u001b[39mself\u001b[39m\u001b[39m.\u001b[39m_exception:\n\u001b[1;32m    390\u001b[0m     \u001b[39mtry\u001b[39;00m:\n\u001b[0;32m--> 391\u001b[0m         \u001b[39mraise\u001b[39;00m \u001b[39mself\u001b[39m\u001b[39m.\u001b[39m_exception\n\u001b[1;32m    392\u001b[0m     \u001b[39mfinally\u001b[39;00m:\n\u001b[1;32m    393\u001b[0m         \u001b[39m# Break a reference cycle with the exception in self._exception\u001b[39;00m\n\u001b[1;32m    394\u001b[0m         \u001b[39mself\u001b[39m \u001b[39m=\u001b[39m \u001b[39mNone\u001b[39;00m\n",
      "File \u001b[0;32m/opt/homebrew/Caskroom/miniforge/base/lib/python3.9/site-packages/prefect/client/utilities.py:47\u001b[0m, in \u001b[0;36minject_client.<locals>.with_injected_client\u001b[0;34m(*args, **kwargs)\u001b[0m\n\u001b[1;32m     45\u001b[0m \u001b[39masync\u001b[39;00m \u001b[39mwith\u001b[39;00m client_context \u001b[39mas\u001b[39;00m new_client:\n\u001b[1;32m     46\u001b[0m     kwargs\u001b[39m.\u001b[39msetdefault(\u001b[39m\"\u001b[39m\u001b[39mclient\u001b[39m\u001b[39m\"\u001b[39m, new_client \u001b[39mor\u001b[39;00m client)\n\u001b[0;32m---> 47\u001b[0m     \u001b[39mreturn\u001b[39;00m \u001b[39mawait\u001b[39;00m fn(\u001b[39m*\u001b[39margs, \u001b[39m*\u001b[39m\u001b[39m*\u001b[39mkwargs)\n",
      "File \u001b[0;32m/opt/homebrew/Caskroom/miniforge/base/lib/python3.9/site-packages/prefect/engine.py:553\u001b[0m, in \u001b[0;36mcreate_and_begin_subflow_run\u001b[0;34m(flow, parameters, wait_for, return_type, client)\u001b[0m\n\u001b[1;32m    551\u001b[0m     \u001b[39mreturn\u001b[39;00m terminal_state\n\u001b[1;32m    552\u001b[0m \u001b[39melif\u001b[39;00m return_type \u001b[39m==\u001b[39m \u001b[39m\"\u001b[39m\u001b[39mresult\u001b[39m\u001b[39m\"\u001b[39m:\n\u001b[0;32m--> 553\u001b[0m     \u001b[39mreturn\u001b[39;00m \u001b[39mawait\u001b[39;00m terminal_state\u001b[39m.\u001b[39mresult(fetch\u001b[39m=\u001b[39m\u001b[39mTrue\u001b[39;00m)\n\u001b[1;32m    554\u001b[0m \u001b[39melse\u001b[39;00m:\n\u001b[1;32m    555\u001b[0m     \u001b[39mraise\u001b[39;00m \u001b[39mValueError\u001b[39;00m(\u001b[39mf\u001b[39m\u001b[39m\"\u001b[39m\u001b[39mInvalid return type for flow engine \u001b[39m\u001b[39m{\u001b[39;00mreturn_type\u001b[39m!r}\u001b[39;00m\u001b[39m.\u001b[39m\u001b[39m\"\u001b[39m)\n",
      "File \u001b[0;32m/opt/homebrew/Caskroom/miniforge/base/lib/python3.9/site-packages/prefect/states.py:89\u001b[0m, in \u001b[0;36m_get_state_result\u001b[0;34m(state, raise_on_failure)\u001b[0m\n\u001b[1;32m     84\u001b[0m     \u001b[39mraise\u001b[39;00m PausedRun(\u001b[39m\"\u001b[39m\u001b[39mRun paused.\u001b[39m\u001b[39m\"\u001b[39m)\n\u001b[1;32m     86\u001b[0m \u001b[39mif\u001b[39;00m raise_on_failure \u001b[39mand\u001b[39;00m (\n\u001b[1;32m     87\u001b[0m     state\u001b[39m.\u001b[39mis_crashed() \u001b[39mor\u001b[39;00m state\u001b[39m.\u001b[39mis_failed() \u001b[39mor\u001b[39;00m state\u001b[39m.\u001b[39mis_cancelled()\n\u001b[1;32m     88\u001b[0m ):\n\u001b[0;32m---> 89\u001b[0m     \u001b[39mraise\u001b[39;00m \u001b[39mawait\u001b[39;00m get_state_exception(state)\n\u001b[1;32m     91\u001b[0m \u001b[39mif\u001b[39;00m \u001b[39misinstance\u001b[39m(state\u001b[39m.\u001b[39mdata, DataDocument):\n\u001b[1;32m     92\u001b[0m     result \u001b[39m=\u001b[39m result_from_state_with_data_document(\n\u001b[1;32m     93\u001b[0m         state, raise_on_failure\u001b[39m=\u001b[39mraise_on_failure\n\u001b[1;32m     94\u001b[0m     )\n",
      "File \u001b[0;32m/opt/homebrew/Caskroom/miniforge/base/lib/python3.9/site-packages/prefect/engine.py:643\u001b[0m, in \u001b[0;36morchestrate_flow_run\u001b[0;34m(flow, flow_run, parameters, wait_for, interruptible, client, partial_flow_run_context)\u001b[0m\n\u001b[1;32m    637\u001b[0m             \u001b[39melse\u001b[39;00m:\n\u001b[1;32m    638\u001b[0m                 run_sync \u001b[39m=\u001b[39m (\n\u001b[1;32m    639\u001b[0m                     run_sync_in_interruptible_worker_thread\n\u001b[1;32m    640\u001b[0m                     \u001b[39mif\u001b[39;00m interruptible \u001b[39mor\u001b[39;00m timeout_scope\n\u001b[1;32m    641\u001b[0m                     \u001b[39melse\u001b[39;00m run_sync_in_worker_thread\n\u001b[1;32m    642\u001b[0m                 )\n\u001b[0;32m--> 643\u001b[0m                 result \u001b[39m=\u001b[39m \u001b[39mawait\u001b[39;00m run_sync(flow_call)\n\u001b[1;32m    645\u001b[0m         waited_for_task_runs \u001b[39m=\u001b[39m \u001b[39mawait\u001b[39;00m wait_for_task_runs_and_report_crashes(\n\u001b[1;32m    646\u001b[0m             flow_run_context\u001b[39m.\u001b[39mtask_run_futures, client\u001b[39m=\u001b[39mclient\n\u001b[1;32m    647\u001b[0m         )\n\u001b[1;32m    648\u001b[0m \u001b[39mexcept\u001b[39;00m PausedRun:\n",
      "File \u001b[0;32m/opt/homebrew/Caskroom/miniforge/base/lib/python3.9/site-packages/prefect/utilities/asyncutils.py:156\u001b[0m, in \u001b[0;36mrun_sync_in_interruptible_worker_thread\u001b[0;34m(__fn, *args, **kwargs)\u001b[0m\n\u001b[1;32m    154\u001b[0m \u001b[39masync\u001b[39;00m \u001b[39mwith\u001b[39;00m anyio\u001b[39m.\u001b[39mcreate_task_group() \u001b[39mas\u001b[39;00m tg:\n\u001b[1;32m    155\u001b[0m     tg\u001b[39m.\u001b[39mstart_soon(send_interrupt_to_thread)\n\u001b[0;32m--> 156\u001b[0m     tg\u001b[39m.\u001b[39mstart_soon(\n\u001b[1;32m    157\u001b[0m         partial(\n\u001b[1;32m    158\u001b[0m             anyio\u001b[39m.\u001b[39mto_thread\u001b[39m.\u001b[39mrun_sync,\n\u001b[1;32m    159\u001b[0m             capture_worker_thread_and_result,\n\u001b[1;32m    160\u001b[0m             cancellable\u001b[39m=\u001b[39m\u001b[39mTrue\u001b[39;00m,\n\u001b[1;32m    161\u001b[0m             limiter\u001b[39m=\u001b[39mget_thread_limiter(),\n\u001b[1;32m    162\u001b[0m         )\n\u001b[1;32m    163\u001b[0m     )\n\u001b[1;32m    165\u001b[0m \u001b[39massert\u001b[39;00m result \u001b[39mis\u001b[39;00m \u001b[39mnot\u001b[39;00m NotSet\n\u001b[1;32m    166\u001b[0m \u001b[39mreturn\u001b[39;00m result\n",
      "File \u001b[0;32m/opt/homebrew/Caskroom/miniforge/base/lib/python3.9/site-packages/anyio/_backends/_asyncio.py:662\u001b[0m, in \u001b[0;36mTaskGroup.__aexit__\u001b[0;34m(self, exc_type, exc_val, exc_tb)\u001b[0m\n\u001b[1;32m    660\u001b[0m             \u001b[39mraise\u001b[39;00m ExceptionGroup(exceptions)\n\u001b[1;32m    661\u001b[0m     \u001b[39melif\u001b[39;00m exceptions \u001b[39mand\u001b[39;00m exceptions[\u001b[39m0\u001b[39m] \u001b[39mis\u001b[39;00m \u001b[39mnot\u001b[39;00m exc_val:\n\u001b[0;32m--> 662\u001b[0m         \u001b[39mraise\u001b[39;00m exceptions[\u001b[39m0\u001b[39m]\n\u001b[1;32m    663\u001b[0m \u001b[39mexcept\u001b[39;00m \u001b[39mBaseException\u001b[39;00m \u001b[39mas\u001b[39;00m exc:\n\u001b[1;32m    664\u001b[0m     \u001b[39m# Clear the context here, as it can only be done in-flight.\u001b[39;00m\n\u001b[1;32m    665\u001b[0m     \u001b[39m# If the context is not cleared, it can result in recursive tracebacks (see #145).\u001b[39;00m\n\u001b[1;32m    666\u001b[0m     exc\u001b[39m.\u001b[39m__context__ \u001b[39m=\u001b[39m \u001b[39mNone\u001b[39;00m\n",
      "File \u001b[0;32m/opt/homebrew/Caskroom/miniforge/base/lib/python3.9/site-packages/anyio/to_thread.py:31\u001b[0m, in \u001b[0;36mrun_sync\u001b[0;34m(func, cancellable, limiter, *args)\u001b[0m\n\u001b[1;32m     10\u001b[0m \u001b[39masync\u001b[39;00m \u001b[39mdef\u001b[39;00m \u001b[39mrun_sync\u001b[39m(\n\u001b[1;32m     11\u001b[0m     func: Callable[\u001b[39m.\u001b[39m\u001b[39m.\u001b[39m\u001b[39m.\u001b[39m, T_Retval],\n\u001b[1;32m     12\u001b[0m     \u001b[39m*\u001b[39margs: \u001b[39mobject\u001b[39m,\n\u001b[1;32m     13\u001b[0m     cancellable: \u001b[39mbool\u001b[39m \u001b[39m=\u001b[39m \u001b[39mFalse\u001b[39;00m,\n\u001b[1;32m     14\u001b[0m     limiter: Optional[CapacityLimiter] \u001b[39m=\u001b[39m \u001b[39mNone\u001b[39;00m\n\u001b[1;32m     15\u001b[0m ) \u001b[39m-\u001b[39m\u001b[39m>\u001b[39m T_Retval:\n\u001b[1;32m     16\u001b[0m     \u001b[39m\"\"\"\u001b[39;00m\n\u001b[1;32m     17\u001b[0m \u001b[39m    Call the given function with the given arguments in a worker thread.\u001b[39;00m\n\u001b[1;32m     18\u001b[0m \n\u001b[0;32m   (...)\u001b[0m\n\u001b[1;32m     29\u001b[0m \n\u001b[1;32m     30\u001b[0m \u001b[39m    \"\"\"\u001b[39;00m\n\u001b[0;32m---> 31\u001b[0m     \u001b[39mreturn\u001b[39;00m \u001b[39mawait\u001b[39;00m get_asynclib()\u001b[39m.\u001b[39mrun_sync_in_worker_thread(\n\u001b[1;32m     32\u001b[0m         func, \u001b[39m*\u001b[39margs, cancellable\u001b[39m=\u001b[39mcancellable, limiter\u001b[39m=\u001b[39mlimiter\n\u001b[1;32m     33\u001b[0m     )\n",
      "File \u001b[0;32m/opt/homebrew/Caskroom/miniforge/base/lib/python3.9/site-packages/anyio/_backends/_asyncio.py:937\u001b[0m, in \u001b[0;36mrun_sync_in_worker_thread\u001b[0;34m(func, cancellable, limiter, *args)\u001b[0m\n\u001b[1;32m    935\u001b[0m context\u001b[39m.\u001b[39mrun(sniffio\u001b[39m.\u001b[39mcurrent_async_library_cvar\u001b[39m.\u001b[39mset, \u001b[39mNone\u001b[39;00m)\n\u001b[1;32m    936\u001b[0m worker\u001b[39m.\u001b[39mqueue\u001b[39m.\u001b[39mput_nowait((context, func, args, future))\n\u001b[0;32m--> 937\u001b[0m \u001b[39mreturn\u001b[39;00m \u001b[39mawait\u001b[39;00m future\n",
      "File \u001b[0;32m/opt/homebrew/Caskroom/miniforge/base/lib/python3.9/site-packages/anyio/_backends/_asyncio.py:867\u001b[0m, in \u001b[0;36mWorkerThread.run\u001b[0;34m(self)\u001b[0m\n\u001b[1;32m    865\u001b[0m exception: Optional[\u001b[39mBaseException\u001b[39;00m] \u001b[39m=\u001b[39m \u001b[39mNone\u001b[39;00m\n\u001b[1;32m    866\u001b[0m \u001b[39mtry\u001b[39;00m:\n\u001b[0;32m--> 867\u001b[0m     result \u001b[39m=\u001b[39m context\u001b[39m.\u001b[39;49mrun(func, \u001b[39m*\u001b[39;49margs)\n\u001b[1;32m    868\u001b[0m \u001b[39mexcept\u001b[39;00m \u001b[39mBaseException\u001b[39;00m \u001b[39mas\u001b[39;00m exc:\n\u001b[1;32m    869\u001b[0m     exception \u001b[39m=\u001b[39m exc\n",
      "File \u001b[0;32m/opt/homebrew/Caskroom/miniforge/base/lib/python3.9/site-packages/prefect/utilities/asyncutils.py:135\u001b[0m, in \u001b[0;36mrun_sync_in_interruptible_worker_thread.<locals>.capture_worker_thread_and_result\u001b[0;34m()\u001b[0m\n\u001b[1;32m    133\u001b[0m \u001b[39mtry\u001b[39;00m:\n\u001b[1;32m    134\u001b[0m     thread \u001b[39m=\u001b[39m threading\u001b[39m.\u001b[39mcurrent_thread()\n\u001b[0;32m--> 135\u001b[0m     result \u001b[39m=\u001b[39m __fn(\u001b[39m*\u001b[39;49margs, \u001b[39m*\u001b[39;49m\u001b[39m*\u001b[39;49mkwargs)\n\u001b[1;32m    136\u001b[0m \u001b[39mexcept\u001b[39;00m \u001b[39mBaseException\u001b[39;00m \u001b[39mas\u001b[39;00m exc:\n\u001b[1;32m    137\u001b[0m     result \u001b[39m=\u001b[39m exc\n",
      "Cell \u001b[0;32mIn [11], line 44\u001b[0m, in \u001b[0;36metl_gcs_to_bq\u001b[0;34m(year, month)\u001b[0m\n\u001b[1;32m     38\u001b[0m uri \u001b[39m=\u001b[39m \u001b[39mf\u001b[39m\u001b[39m\"\u001b[39m\u001b[39mgs://ny_taxi_bucket_de_2023/2019/fhv_tripdata_\u001b[39m\u001b[39m{\u001b[39;00myear\u001b[39m}\u001b[39;00m\u001b[39m-\u001b[39m\u001b[39m{\u001b[39;00mmonth\u001b[39m:\u001b[39;00m\u001b[39m02\u001b[39m\u001b[39m}\u001b[39;00m\u001b[39m.csv.gz\u001b[39m\u001b[39m\"\u001b[39m\n\u001b[1;32m     40\u001b[0m load_job \u001b[39m=\u001b[39m client\u001b[39m.\u001b[39mload_table_from_uri(\n\u001b[1;32m     41\u001b[0m     uri, table_id, job_config\u001b[39m=\u001b[39mjob_config\n\u001b[1;32m     42\u001b[0m )  \u001b[39m# Make an API request.\u001b[39;00m\n\u001b[0;32m---> 44\u001b[0m load_job\u001b[39m.\u001b[39;49mresult()  \u001b[39m# Waits for the job to complete.\u001b[39;00m\n\u001b[1;32m     46\u001b[0m destination_table \u001b[39m=\u001b[39m client\u001b[39m.\u001b[39mget_table(table_id)\n\u001b[1;32m     47\u001b[0m \u001b[39mprint\u001b[39m(\u001b[39mf\u001b[39m\u001b[39m\"\u001b[39m\u001b[39mLoaded \u001b[39m\u001b[39m{\u001b[39;00mdestination_table\u001b[39m.\u001b[39mnum_rows\u001b[39m}\u001b[39;00m\u001b[39m rows.\u001b[39m\u001b[39m\"\u001b[39m)\n",
      "File \u001b[0;32m/opt/homebrew/Caskroom/miniforge/base/lib/python3.9/site-packages/google/cloud/bigquery/job/base.py:728\u001b[0m, in \u001b[0;36m_AsyncJob.result\u001b[0;34m(self, retry, timeout)\u001b[0m\n\u001b[1;32m    725\u001b[0m     \u001b[39mself\u001b[39m\u001b[39m.\u001b[39m_begin(retry\u001b[39m=\u001b[39mretry, timeout\u001b[39m=\u001b[39mtimeout)\n\u001b[1;32m    727\u001b[0m kwargs \u001b[39m=\u001b[39m {} \u001b[39mif\u001b[39;00m retry \u001b[39mis\u001b[39;00m DEFAULT_RETRY \u001b[39melse\u001b[39;00m {\u001b[39m\"\u001b[39m\u001b[39mretry\u001b[39m\u001b[39m\"\u001b[39m: retry}\n\u001b[0;32m--> 728\u001b[0m \u001b[39mreturn\u001b[39;00m \u001b[39msuper\u001b[39;49m(_AsyncJob, \u001b[39mself\u001b[39;49m)\u001b[39m.\u001b[39;49mresult(timeout\u001b[39m=\u001b[39;49mtimeout, \u001b[39m*\u001b[39;49m\u001b[39m*\u001b[39;49mkwargs)\n",
      "File \u001b[0;32m/opt/homebrew/Caskroom/miniforge/base/lib/python3.9/site-packages/google/api_core/future/polling.py:261\u001b[0m, in \u001b[0;36mPollingFuture.result\u001b[0;34m(self, timeout, retry, polling)\u001b[0m\n\u001b[1;32m    256\u001b[0m \u001b[39mself\u001b[39m\u001b[39m.\u001b[39m_blocking_poll(timeout\u001b[39m=\u001b[39mtimeout, retry\u001b[39m=\u001b[39mretry, polling\u001b[39m=\u001b[39mpolling)\n\u001b[1;32m    258\u001b[0m \u001b[39mif\u001b[39;00m \u001b[39mself\u001b[39m\u001b[39m.\u001b[39m_exception \u001b[39mis\u001b[39;00m \u001b[39mnot\u001b[39;00m \u001b[39mNone\u001b[39;00m:\n\u001b[1;32m    259\u001b[0m     \u001b[39m# pylint: disable=raising-bad-type\u001b[39;00m\n\u001b[1;32m    260\u001b[0m     \u001b[39m# Pylint doesn't recognize that this is valid in this case.\u001b[39;00m\n\u001b[0;32m--> 261\u001b[0m     \u001b[39mraise\u001b[39;00m \u001b[39mself\u001b[39m\u001b[39m.\u001b[39m_exception\n\u001b[1;32m    263\u001b[0m \u001b[39mreturn\u001b[39;00m \u001b[39mself\u001b[39m\u001b[39m.\u001b[39m_result\n",
      "\u001b[0;31mBadRequest\u001b[0m: 400 Error while reading data, error message: Too many values in row starting at position: 0. Found 8 column(s) while expected 7. File: gs://ny_taxi_bucket_de_2023/2019/fhv_tripdata_2019-02.csv.gz"
     ]
    }
   ],
   "source": [
    "# import\n",
    "from prefect_gcp import GcpCredentials\n",
    "from google.cloud import bigquery\n",
    "\n",
    "# Deployment 2\n",
    "\n",
    "\n",
    "\n",
    "# Upload data from GCS to BigQuery\n",
    "@flow(log_prints=True, name=\"etl-gcs-to-bq\")\n",
    "def etl_gcs_to_bq(year: int, month: int):\n",
    "    \n",
    "    gcp_creds_block = GcpCredentials.load(\"prefect-gcs-2023-creds\")\n",
    "    gcp_creds = gcp_creds_block.get_credentials_from_service_account()\n",
    "    client = bigquery.Client(credentials=gcp_creds)\n",
    "    table_id = \"dtc-de-2023.ny_taxi.ny_taxi_tripdata_2019\"\n",
    "\n",
    "    job_config = bigquery.LoadJobConfig(\n",
    "        source_format=bigquery.SourceFormat.CSV,\n",
    "        schema=[\n",
    "            bigquery.SchemaField(\"dispatching_base_num\", \"STRING\", mode=\"NULLABLE\"),\n",
    "            bigquery.SchemaField(\"pickup_datetime\", \"TIMESTAMP\", mode=\"NULLABLE\"),\n",
    "            bigquery.SchemaField(\"dropOff_datetime\", \"TIMESTAMP\", mode=\"NULLABLE\"),\n",
    "            bigquery.SchemaField(\"PUlocationID\", \"FLOAT\", mode=\"NULLABLE\"),\n",
    "            bigquery.SchemaField(\"DOlocationID\", \"FLOAT\", mode=\"NULLABLE\"),\n",
    "            bigquery.SchemaField(\n",
    "                \"SR_Flag\",\n",
    "                \"FLOAT\",\n",
    "                mode=\"NULLABLE\",\n",
    "            ),\n",
    "            bigquery.SchemaField(\"Affiliated_base_number\", \"STRING\", mode=\"NULLABLE\"),\n",
    "        ],\n",
    "    )\n",
    "    uri = f\"gs://ny_taxi_bucket_de_2023/2019/fhv_tripdata_{year}-{month:02}.csv.gz\"\n",
    "\n",
    "    load_job = client.load_table_from_uri(\n",
    "        uri, table_id, job_config=job_config\n",
    "    )  # Make an API request.\n",
    "\n",
    "    load_job.result()  # Waits for the job to complete.\n",
    "\n",
    "    destination_table = client.get_table(table_id)\n",
    "    print(f\"Loaded {destination_table.num_rows} rows.\")\n",
    "\n",
    "\n",
    "# Parent flow ETL\n",
    "@flow(log_prints=True, name=\"etl-parent-to-bq\")\n",
    "def etl_parent_bq_flow(\n",
    "    year: int = 2019, months: list[int] = [1, 2, 3, 4, 5, 6, 7, 8, 9, 10, 11, 12]\n",
    "):\n",
    "    for month in months:\n",
    "        etl_gcs_to_bq(year, month)\n",
    "\n",
    "\n",
    "# run main\n",
    "if __name__ == \"__main__\":\n",
    "    year = 2019\n",
    "    months = [2]\n",
    "\n",
    "    etl_parent_bq_flow(year, months)"
   ]
  }
 ],
 "metadata": {
  "kernelspec": {
   "display_name": "base",
   "language": "python",
   "name": "python3"
  },
  "language_info": {
   "codemirror_mode": {
    "name": "ipython",
    "version": 3
   },
   "file_extension": ".py",
   "mimetype": "text/x-python",
   "name": "python",
   "nbconvert_exporter": "python",
   "pygments_lexer": "ipython3",
   "version": "3.9.15"
  },
  "orig_nbformat": 4,
  "vscode": {
   "interpreter": {
    "hash": "c6e4e9f98eb68ad3b7c296f83d20e6de614cb42e90992a65aa266555a3137d0d"
   }
  }
 },
 "nbformat": 4,
 "nbformat_minor": 2
}
