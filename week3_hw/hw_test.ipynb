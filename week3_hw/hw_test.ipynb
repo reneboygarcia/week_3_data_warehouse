{
 "cells": [
  {
   "cell_type": "code",
   "execution_count": 8,
   "metadata": {},
   "outputs": [
    {
     "name": "stdout",
     "output_type": "stream",
     "text": [
      "Setup Complete\n"
     ]
    },
    {
     "name": "stderr",
     "output_type": "stream",
     "text": [
      "/opt/homebrew/Caskroom/miniforge/base/lib/python3.9/site-packages/prefect/tasks.py:261: UserWarning: A task named 'fetch-file-dataset_url' and defined at '/var/folders/h2/6110hgtx6b7400ybw7yjhn400000gn/T/ipykernel_21033/1031823537.py:16' conflicts with another task. Consider specifying a unique `name` parameter in the task definition:\n",
      "\n",
      " `@task(name='my_unique_name', ...)`\n",
      "  warnings.warn(\n",
      "/opt/homebrew/Caskroom/miniforge/base/lib/python3.9/site-packages/prefect/tasks.py:261: UserWarning: A task named 'read-and-tweak-df' and defined at '/var/folders/h2/6110hgtx6b7400ybw7yjhn400000gn/T/ipykernel_21033/1031823537.py:23' conflicts with another task. Consider specifying a unique `name` parameter in the task definition:\n",
      "\n",
      " `@task(name='my_unique_name', ...)`\n",
      "  warnings.warn(\n",
      "/opt/homebrew/Caskroom/miniforge/base/lib/python3.9/site-packages/prefect/tasks.py:261: UserWarning: A task named 'write-to-local-file' and defined at '/var/folders/h2/6110hgtx6b7400ybw7yjhn400000gn/T/ipykernel_21033/1031823537.py:30' conflicts with another task. Consider specifying a unique `name` parameter in the task definition:\n",
      "\n",
      " `@task(name='my_unique_name', ...)`\n",
      "  warnings.warn(\n",
      "/opt/homebrew/Caskroom/miniforge/base/lib/python3.9/site-packages/prefect/tasks.py:261: UserWarning: A task named 'write_gcs' and defined at '/var/folders/h2/6110hgtx6b7400ybw7yjhn400000gn/T/ipykernel_21033/1031823537.py:44' conflicts with another task. Consider specifying a unique `name` parameter in the task definition:\n",
      "\n",
      " `@task(name='my_unique_name', ...)`\n",
      "  warnings.warn(\n",
      "/opt/homebrew/Caskroom/miniforge/base/lib/python3.9/site-packages/prefect/tasks.py:261: UserWarning: A task named 'dedeplicate-local-data' and defined at '/var/folders/h2/6110hgtx6b7400ybw7yjhn400000gn/T/ipykernel_21033/1031823537.py:53' conflicts with another task. Consider specifying a unique `name` parameter in the task definition:\n",
      "\n",
      " `@task(name='my_unique_name', ...)`\n",
      "  warnings.warn(\n",
      "/opt/homebrew/Caskroom/miniforge/base/lib/python3.9/site-packages/prefect/flows.py:206: UserWarning: A flow named 'etl-web-gcs' and defined at '/var/folders/h2/6110hgtx6b7400ybw7yjhn400000gn/T/ipykernel_21033/1031823537.py:63' conflicts with another flow. Consider specifying a unique `name` parameter in the flow definition:\n",
      "\n",
      " `@flow(name='my_unique_name', ...)`\n",
      "  warnings.warn(\n",
      "/opt/homebrew/Caskroom/miniforge/base/lib/python3.9/site-packages/prefect/flows.py:206: UserWarning: A flow named 'etl-parent-local-gcs' and defined at '/var/folders/h2/6110hgtx6b7400ybw7yjhn400000gn/T/ipykernel_21033/1031823537.py:92' conflicts with another flow. Consider specifying a unique `name` parameter in the flow definition:\n",
      "\n",
      " `@flow(name='my_unique_name', ...)`\n",
      "  warnings.warn(\n"
     ]
    },
    {
     "data": {
      "text/html": [
       "<pre style=\"white-space:pre;overflow-x:auto;line-height:normal;font-family:Menlo,'DejaVu Sans Mono',consolas,'Courier New',monospace\">12:01:21.462 | <span style=\"color: #008080; text-decoration-color: #008080\">INFO</span>    | prefect.engine - Created flow run<span style=\"color: #800080; text-decoration-color: #800080\"> 'idealistic-puma'</span> for flow<span style=\"color: #800080; text-decoration-color: #800080; font-weight: bold\"> 'etl-parent-local-gcs'</span>\n",
       "</pre>\n"
      ],
      "text/plain": [
       "12:01:21.462 | \u001b[36mINFO\u001b[0m    | prefect.engine - Created flow run\u001b[35m 'idealistic-puma'\u001b[0m for flow\u001b[1;35m 'etl-parent-local-gcs'\u001b[0m\n"
      ]
     },
     "metadata": {},
     "output_type": "display_data"
    },
    {
     "name": "stderr",
     "output_type": "stream",
     "text": [
      "/opt/homebrew/Caskroom/miniforge/base/lib/python3.9/site-packages/prefect/tasks.py:261: UserWarning: A task named 'etl-web-gcs' and defined at '/var/folders/h2/6110hgtx6b7400ybw7yjhn400000gn/T/ipykernel_21033/1031823537.py:63' conflicts with another task. Consider specifying a unique `name` parameter in the task definition:\n",
      "\n",
      " `@task(name='my_unique_name', ...)`\n",
      "  warnings.warn(\n"
     ]
    },
    {
     "data": {
      "text/html": [
       "<pre style=\"white-space:pre;overflow-x:auto;line-height:normal;font-family:Menlo,'DejaVu Sans Mono',consolas,'Courier New',monospace\">12:01:27.995 | <span style=\"color: #008080; text-decoration-color: #008080\">INFO</span>    | Flow run<span style=\"color: #800080; text-decoration-color: #800080\"> 'idealistic-puma'</span> - Created subflow run<span style=\"color: #800080; text-decoration-color: #800080\"> 'towering-bison'</span> for flow<span style=\"color: #800080; text-decoration-color: #800080; font-weight: bold\"> 'etl-web-gcs'</span>\n",
       "</pre>\n"
      ],
      "text/plain": [
       "12:01:27.995 | \u001b[36mINFO\u001b[0m    | Flow run\u001b[35m 'idealistic-puma'\u001b[0m - Created subflow run\u001b[35m 'towering-bison'\u001b[0m for flow\u001b[1;35m 'etl-web-gcs'\u001b[0m\n"
      ]
     },
     "metadata": {},
     "output_type": "display_data"
    },
    {
     "data": {
      "text/html": [
       "<pre style=\"white-space:pre;overflow-x:auto;line-height:normal;font-family:Menlo,'DejaVu Sans Mono',consolas,'Courier New',monospace\">12:01:29.025 | <span style=\"color: #008080; text-decoration-color: #008080\">INFO</span>    | Flow run<span style=\"color: #800080; text-decoration-color: #800080\"> 'towering-bison'</span> - Created task run 'fetch-file-dataset_url-b4598a4a-0' for task 'fetch-file-dataset_url'\n",
       "</pre>\n"
      ],
      "text/plain": [
       "12:01:29.025 | \u001b[36mINFO\u001b[0m    | Flow run\u001b[35m 'towering-bison'\u001b[0m - Created task run 'fetch-file-dataset_url-b4598a4a-0' for task 'fetch-file-dataset_url'\n"
      ]
     },
     "metadata": {},
     "output_type": "display_data"
    },
    {
     "data": {
      "text/html": [
       "<pre style=\"white-space:pre;overflow-x:auto;line-height:normal;font-family:Menlo,'DejaVu Sans Mono',consolas,'Courier New',monospace\">12:01:29.028 | <span style=\"color: #008080; text-decoration-color: #008080\">INFO</span>    | Flow run<span style=\"color: #800080; text-decoration-color: #800080\"> 'towering-bison'</span> - Executing 'fetch-file-dataset_url-b4598a4a-0' immediately...\n",
       "</pre>\n"
      ],
      "text/plain": [
       "12:01:29.028 | \u001b[36mINFO\u001b[0m    | Flow run\u001b[35m 'towering-bison'\u001b[0m - Executing 'fetch-file-dataset_url-b4598a4a-0' immediately...\n"
      ]
     },
     "metadata": {},
     "output_type": "display_data"
    },
    {
     "data": {
      "text/html": [
       "<pre style=\"white-space:pre;overflow-x:auto;line-height:normal;font-family:Menlo,'DejaVu Sans Mono',consolas,'Courier New',monospace\">12:01:38.614 | <span style=\"color: #008080; text-decoration-color: #008080\">INFO</span>    | Task run 'fetch-file-dataset_url-b4598a4a-0' - Finished in state <span style=\"color: #008000; text-decoration-color: #008000\">Completed</span>()\n",
       "</pre>\n"
      ],
      "text/plain": [
       "12:01:38.614 | \u001b[36mINFO\u001b[0m    | Task run 'fetch-file-dataset_url-b4598a4a-0' - Finished in state \u001b[32mCompleted\u001b[0m()\n"
      ]
     },
     "metadata": {},
     "output_type": "display_data"
    },
    {
     "data": {
      "text/html": [
       "<pre style=\"white-space:pre;overflow-x:auto;line-height:normal;font-family:Menlo,'DejaVu Sans Mono',consolas,'Courier New',monospace\">12:01:38.963 | <span style=\"color: #008080; text-decoration-color: #008080\">INFO</span>    | Flow run<span style=\"color: #800080; text-decoration-color: #800080\"> 'towering-bison'</span> - Created task run 'read-and-tweak-df-eb089ab3-0' for task 'read-and-tweak-df'\n",
       "</pre>\n"
      ],
      "text/plain": [
       "12:01:38.963 | \u001b[36mINFO\u001b[0m    | Flow run\u001b[35m 'towering-bison'\u001b[0m - Created task run 'read-and-tweak-df-eb089ab3-0' for task 'read-and-tweak-df'\n"
      ]
     },
     "metadata": {},
     "output_type": "display_data"
    },
    {
     "data": {
      "text/html": [
       "<pre style=\"white-space:pre;overflow-x:auto;line-height:normal;font-family:Menlo,'DejaVu Sans Mono',consolas,'Courier New',monospace\">12:01:38.965 | <span style=\"color: #008080; text-decoration-color: #008080\">INFO</span>    | Flow run<span style=\"color: #800080; text-decoration-color: #800080\"> 'towering-bison'</span> - Executing 'read-and-tweak-df-eb089ab3-0' immediately...\n",
       "</pre>\n"
      ],
      "text/plain": [
       "12:01:38.965 | \u001b[36mINFO\u001b[0m    | Flow run\u001b[35m 'towering-bison'\u001b[0m - Executing 'read-and-tweak-df-eb089ab3-0' immediately...\n"
      ]
     },
     "metadata": {},
     "output_type": "display_data"
    },
    {
     "data": {
      "text/html": [
       "<pre style=\"white-space:pre;overflow-x:auto;line-height:normal;font-family:Menlo,'DejaVu Sans Mono',consolas,'Courier New',monospace\">12:01:42.009 | <span style=\"color: #008080; text-decoration-color: #008080\">INFO</span>    | Task run 'read-and-tweak-df-eb089ab3-0' - Finished in state <span style=\"color: #008000; text-decoration-color: #008000\">Completed</span>()\n",
       "</pre>\n"
      ],
      "text/plain": [
       "12:01:42.009 | \u001b[36mINFO\u001b[0m    | Task run 'read-and-tweak-df-eb089ab3-0' - Finished in state \u001b[32mCompleted\u001b[0m()\n"
      ]
     },
     "metadata": {},
     "output_type": "display_data"
    },
    {
     "data": {
      "text/html": [
       "<pre style=\"white-space:pre;overflow-x:auto;line-height:normal;font-family:Menlo,'DejaVu Sans Mono',consolas,'Courier New',monospace\">12:01:42.343 | <span style=\"color: #008080; text-decoration-color: #008080\">INFO</span>    | Flow run<span style=\"color: #800080; text-decoration-color: #800080\"> 'towering-bison'</span> - Created task run 'write-to-local-file-f322d1be-0' for task 'write-to-local-file'\n",
       "</pre>\n"
      ],
      "text/plain": [
       "12:01:42.343 | \u001b[36mINFO\u001b[0m    | Flow run\u001b[35m 'towering-bison'\u001b[0m - Created task run 'write-to-local-file-f322d1be-0' for task 'write-to-local-file'\n"
      ]
     },
     "metadata": {},
     "output_type": "display_data"
    },
    {
     "data": {
      "text/html": [
       "<pre style=\"white-space:pre;overflow-x:auto;line-height:normal;font-family:Menlo,'DejaVu Sans Mono',consolas,'Courier New',monospace\">12:01:42.344 | <span style=\"color: #008080; text-decoration-color: #008080\">INFO</span>    | Flow run<span style=\"color: #800080; text-decoration-color: #800080\"> 'towering-bison'</span> - Executing 'write-to-local-file-f322d1be-0' immediately...\n",
       "</pre>\n"
      ],
      "text/plain": [
       "12:01:42.344 | \u001b[36mINFO\u001b[0m    | Flow run\u001b[35m 'towering-bison'\u001b[0m - Executing 'write-to-local-file-f322d1be-0' immediately...\n"
      ]
     },
     "metadata": {},
     "output_type": "display_data"
    },
    {
     "data": {
      "text/html": [
       "<pre style=\"white-space:pre;overflow-x:auto;line-height:normal;font-family:Menlo,'DejaVu Sans Mono',consolas,'Courier New',monospace\">12:02:00.637 | <span style=\"color: #008080; text-decoration-color: #008080\">INFO</span>    | Task run 'write-to-local-file-f322d1be-0' - Finished in state <span style=\"color: #008000; text-decoration-color: #008000\">Completed</span>()\n",
       "</pre>\n"
      ],
      "text/plain": [
       "12:02:00.637 | \u001b[36mINFO\u001b[0m    | Task run 'write-to-local-file-f322d1be-0' - Finished in state \u001b[32mCompleted\u001b[0m()\n"
      ]
     },
     "metadata": {},
     "output_type": "display_data"
    },
    {
     "data": {
      "text/html": [
       "<pre style=\"white-space:pre;overflow-x:auto;line-height:normal;font-family:Menlo,'DejaVu Sans Mono',consolas,'Courier New',monospace\">12:02:01.009 | <span style=\"color: #008080; text-decoration-color: #008080\">INFO</span>    | Flow run<span style=\"color: #800080; text-decoration-color: #800080\"> 'towering-bison'</span> - Created task run 'write_gcs-1145c921-0' for task 'write_gcs'\n",
       "</pre>\n"
      ],
      "text/plain": [
       "12:02:01.009 | \u001b[36mINFO\u001b[0m    | Flow run\u001b[35m 'towering-bison'\u001b[0m - Created task run 'write_gcs-1145c921-0' for task 'write_gcs'\n"
      ]
     },
     "metadata": {},
     "output_type": "display_data"
    },
    {
     "data": {
      "text/html": [
       "<pre style=\"white-space:pre;overflow-x:auto;line-height:normal;font-family:Menlo,'DejaVu Sans Mono',consolas,'Courier New',monospace\">12:02:01.012 | <span style=\"color: #008080; text-decoration-color: #008080\">INFO</span>    | Flow run<span style=\"color: #800080; text-decoration-color: #800080\"> 'towering-bison'</span> - Executing 'write_gcs-1145c921-0' immediately...\n",
       "</pre>\n"
      ],
      "text/plain": [
       "12:02:01.012 | \u001b[36mINFO\u001b[0m    | Flow run\u001b[35m 'towering-bison'\u001b[0m - Executing 'write_gcs-1145c921-0' immediately...\n"
      ]
     },
     "metadata": {},
     "output_type": "display_data"
    },
    {
     "data": {
      "text/html": [
       "<pre style=\"white-space:pre;overflow-x:auto;line-height:normal;font-family:Menlo,'DejaVu Sans Mono',consolas,'Courier New',monospace\">12:02:02.762 | <span style=\"color: #008080; text-decoration-color: #008080\">INFO</span>    | Task run 'write_gcs-1145c921-0' - Getting bucket 'ny_taxi_bucket_de_2023'.\n",
       "</pre>\n"
      ],
      "text/plain": [
       "12:02:02.762 | \u001b[36mINFO\u001b[0m    | Task run 'write_gcs-1145c921-0' - Getting bucket 'ny_taxi_bucket_de_2023'.\n"
      ]
     },
     "metadata": {},
     "output_type": "display_data"
    },
    {
     "data": {
      "text/html": [
       "<pre style=\"white-space:pre;overflow-x:auto;line-height:normal;font-family:Menlo,'DejaVu Sans Mono',consolas,'Courier New',monospace\">12:02:03.215 | <span style=\"color: #008080; text-decoration-color: #008080\">INFO</span>    | Task run 'write_gcs-1145c921-0' - Uploading from PosixPath('2019/fhv_tripdata_2019-02.csv.gz') to the bucket 'ny_taxi_bucket_de_2023' path '2019/fhv_tripdata_2019-02.csv.gz'.\n",
       "</pre>\n"
      ],
      "text/plain": [
       "12:02:03.215 | \u001b[36mINFO\u001b[0m    | Task run 'write_gcs-1145c921-0' - Uploading from PosixPath('2019/fhv_tripdata_2019-02.csv.gz') to the bucket 'ny_taxi_bucket_de_2023' path '2019/fhv_tripdata_2019-02.csv.gz'.\n"
      ]
     },
     "metadata": {},
     "output_type": "display_data"
    },
    {
     "data": {
      "text/html": [
       "<pre style=\"white-space:pre;overflow-x:auto;line-height:normal;font-family:Menlo,'DejaVu Sans Mono',consolas,'Courier New',monospace\">12:02:13.926 | <span style=\"color: #008080; text-decoration-color: #008080\">INFO</span>    | Task run 'write_gcs-1145c921-0' - Loaded data to GCS...Hooray!\n",
       "</pre>\n"
      ],
      "text/plain": [
       "12:02:13.926 | \u001b[36mINFO\u001b[0m    | Task run 'write_gcs-1145c921-0' - Loaded data to GCS...Hooray!\n"
      ]
     },
     "metadata": {},
     "output_type": "display_data"
    },
    {
     "data": {
      "text/html": [
       "<pre style=\"white-space:pre;overflow-x:auto;line-height:normal;font-family:Menlo,'DejaVu Sans Mono',consolas,'Courier New',monospace\">12:02:14.530 | <span style=\"color: #008080; text-decoration-color: #008080\">INFO</span>    | Task run 'write_gcs-1145c921-0' - Finished in state <span style=\"color: #008000; text-decoration-color: #008000\">Completed</span>()\n",
       "</pre>\n"
      ],
      "text/plain": [
       "12:02:14.530 | \u001b[36mINFO\u001b[0m    | Task run 'write_gcs-1145c921-0' - Finished in state \u001b[32mCompleted\u001b[0m()\n"
      ]
     },
     "metadata": {},
     "output_type": "display_data"
    },
    {
     "data": {
      "text/html": [
       "<pre style=\"white-space:pre;overflow-x:auto;line-height:normal;font-family:Menlo,'DejaVu Sans Mono',consolas,'Courier New',monospace\">12:02:14.842 | <span style=\"color: #008080; text-decoration-color: #008080\">INFO</span>    | Flow run<span style=\"color: #800080; text-decoration-color: #800080\"> 'towering-bison'</span> - Created task run 'dedeplicate-local-data-8266ec2d-0' for task 'dedeplicate-local-data'\n",
       "</pre>\n"
      ],
      "text/plain": [
       "12:02:14.842 | \u001b[36mINFO\u001b[0m    | Flow run\u001b[35m 'towering-bison'\u001b[0m - Created task run 'dedeplicate-local-data-8266ec2d-0' for task 'dedeplicate-local-data'\n"
      ]
     },
     "metadata": {},
     "output_type": "display_data"
    },
    {
     "data": {
      "text/html": [
       "<pre style=\"white-space:pre;overflow-x:auto;line-height:normal;font-family:Menlo,'DejaVu Sans Mono',consolas,'Courier New',monospace\">12:02:14.845 | <span style=\"color: #008080; text-decoration-color: #008080\">INFO</span>    | Flow run<span style=\"color: #800080; text-decoration-color: #800080\"> 'towering-bison'</span> - Executing 'dedeplicate-local-data-8266ec2d-0' immediately...\n",
       "</pre>\n"
      ],
      "text/plain": [
       "12:02:14.845 | \u001b[36mINFO\u001b[0m    | Flow run\u001b[35m 'towering-bison'\u001b[0m - Executing 'dedeplicate-local-data-8266ec2d-0' immediately...\n"
      ]
     },
     "metadata": {},
     "output_type": "display_data"
    },
    {
     "data": {
      "text/html": [
       "<pre style=\"white-space:pre;overflow-x:auto;line-height:normal;font-family:Menlo,'DejaVu Sans Mono',consolas,'Courier New',monospace\">12:02:15.884 | <span style=\"color: #008080; text-decoration-color: #008080\">INFO</span>    | Task run 'dedeplicate-local-data-8266ec2d-0' - The system cannot find the file specified: [Errno 2] No such file or directory: '~/2019/fhv_tripdata_2019-02.csv.gz'\n",
       "</pre>\n"
      ],
      "text/plain": [
       "12:02:15.884 | \u001b[36mINFO\u001b[0m    | Task run 'dedeplicate-local-data-8266ec2d-0' - The system cannot find the file specified: [Errno 2] No such file or directory: '~/2019/fhv_tripdata_2019-02.csv.gz'\n"
      ]
     },
     "metadata": {},
     "output_type": "display_data"
    },
    {
     "data": {
      "text/html": [
       "<pre style=\"white-space:pre;overflow-x:auto;line-height:normal;font-family:Menlo,'DejaVu Sans Mono',consolas,'Courier New',monospace\">12:02:16.215 | <span style=\"color: #008080; text-decoration-color: #008080\">INFO</span>    | Task run 'dedeplicate-local-data-8266ec2d-0' - Finished in state <span style=\"color: #008000; text-decoration-color: #008000\">Completed</span>()\n",
       "</pre>\n"
      ],
      "text/plain": [
       "12:02:16.215 | \u001b[36mINFO\u001b[0m    | Task run 'dedeplicate-local-data-8266ec2d-0' - Finished in state \u001b[32mCompleted\u001b[0m()\n"
      ]
     },
     "metadata": {},
     "output_type": "display_data"
    },
    {
     "data": {
      "text/html": [
       "<pre style=\"white-space:pre;overflow-x:auto;line-height:normal;font-family:Menlo,'DejaVu Sans Mono',consolas,'Courier New',monospace\">12:02:16.593 | <span style=\"color: #008080; text-decoration-color: #008080\">INFO</span>    | Flow run<span style=\"color: #800080; text-decoration-color: #800080\"> 'towering-bison'</span> - Finished in state <span style=\"color: #008000; text-decoration-color: #008000\">Completed</span>('All states completed.')\n",
       "</pre>\n"
      ],
      "text/plain": [
       "12:02:16.593 | \u001b[36mINFO\u001b[0m    | Flow run\u001b[35m 'towering-bison'\u001b[0m - Finished in state \u001b[32mCompleted\u001b[0m('All states completed.')\n"
      ]
     },
     "metadata": {},
     "output_type": "display_data"
    },
    {
     "data": {
      "text/html": [
       "<pre style=\"white-space:pre;overflow-x:auto;line-height:normal;font-family:Menlo,'DejaVu Sans Mono',consolas,'Courier New',monospace\">12:02:17.741 | <span style=\"color: #008080; text-decoration-color: #008080\">INFO</span>    | Flow run<span style=\"color: #800080; text-decoration-color: #800080\"> 'idealistic-puma'</span> - Finished in state <span style=\"color: #008000; text-decoration-color: #008000\">Completed</span>('All states completed.')\n",
       "</pre>\n"
      ],
      "text/plain": [
       "12:02:17.741 | \u001b[36mINFO\u001b[0m    | Flow run\u001b[35m 'idealistic-puma'\u001b[0m - Finished in state \u001b[32mCompleted\u001b[0m('All states completed.')\n"
      ]
     },
     "metadata": {},
     "output_type": "display_data"
    }
   ],
   "source": [
    "# imports\n",
    "import os\n",
    "import shutil\n",
    "from pathlib import Path\n",
    "import urllib.request\n",
    "import pandas as pd\n",
    "from google.cloud import bigquery\n",
    "from prefect import task, flow\n",
    "from prefect_gcp.cloud_storage import GcsBucket\n",
    "\n",
    "print(\"Setup Complete\")\n",
    "\n",
    "\n",
    "# Deployment 1\n",
    "# Fetch the data from Github url\n",
    "@task(log_prints=True, name=\"fetch-file-dataset_url\")\n",
    "def fetch(dataset_url: str):\n",
    "    filename, _ = urllib.request.urlretrieve(dataset_url)\n",
    "    return filename\n",
    "\n",
    "\n",
    "# Read and tweak to fix the dtypes of pick-up and drop-off\n",
    "@task(log_prints=True, name=\"read-and-tweak-df\")\n",
    "def read_tweak_df(src: str) -> pd.DataFrame:\n",
    "    df = pd.read_csv(src, parse_dates=[2, 3], compression=\"gzip\")\n",
    "    return df\n",
    "\n",
    "\n",
    "# Write DataFrame to a specific folder after tweaking the DataFrame\n",
    "@task(log_prints=True, name=\"write-to-local-file\")\n",
    "def write_local(df: pd.DataFrame, year: int, dataset_file: str) -> Path:\n",
    "    directory = Path(f\"{year}\")\n",
    "    path_name = directory / f\"{dataset_file}.csv.gz\"\n",
    "    try:\n",
    "        os.makedirs(directory, exist_ok=True)\n",
    "        df.to_csv(path_name, compression=\"gzip\")\n",
    "    except OSError as error:\n",
    "        print(error)\n",
    "    return path_name\n",
    "\n",
    "\n",
    "# https://app.prefect.cloud/account/975bd9ed-5aef-4c8a-a413-23073fef3acb/workspace/a711abba-f5ae-4b00-9315-34f92f089b77/blocks/catalog\n",
    "# Upload local csv.gz file to GCS\n",
    "@task(log_prints=True)\n",
    "def write_gcs(path: Path) -> None:\n",
    "    gcs_block = GcsBucket.load(\"prefect-gcs-block-ny-taxi\")\n",
    "    gcs_block.upload_from_path(from_path=path, to_path=path)\n",
    "    print(\"Loaded data to GCS...Hooray!\")\n",
    "    return\n",
    "\n",
    "\n",
    "# Delete file after uploads\n",
    "@task(log_prints=True, name=\"dedeplicate-local-data\")\n",
    "def deduplicate(path: Path) -> None:\n",
    "    try:\n",
    "        os.remove(path)\n",
    "        os.rmdir(path)\n",
    "        print(\"Successfully deleted directory and local files...hep hep hooray\")\n",
    "    except OSError as error:\n",
    "        print(f\"The system cannot find the file specified: {error}\")\n",
    "    return\n",
    "\n",
    "\n",
    "@flow(log_prints=True, name=\"etl-web-gcs\")\n",
    "def etl_web_gcs(year: int, month: int):\n",
    "    # Parameters\n",
    "    year = 2019\n",
    "    month = 5\n",
    "    dataset_file = f\"fhv_tripdata_{year}-{month:02}\"\n",
    "    dataset_url = f\"https://github.com/DataTalksClub/nyc-tlc-data/releases/download/fhv/{dataset_file}.csv.gz\"\n",
    "\n",
    "    # Execution\n",
    "    # Fetch the data from Github url\n",
    "    source = fetch(dataset_url)\n",
    "\n",
    "    # no choice but to tweak the data types for us to upload this to BQ\n",
    "    # Read and tweak to fix the dytpes of pick-up and drop-off\n",
    "    df_tweak = read_tweak_df(source)\n",
    "\n",
    "    # write df to local\n",
    "    path_local = write_local(df_tweak, year, dataset_file)\n",
    "\n",
    "    # Upload dataset from local to gcs\n",
    "    write_gcs(path_local)\n",
    "\n",
    "    # Delete file after uploads\n",
    "    deduplicate(path_local)\n",
    "\n",
    "    # Next step is to create a separate deployment from GCS to BigQuery\n",
    "\n",
    "\n",
    "# Create Parent flow to loop\n",
    "@flow(name=\"etl-parent-local-gcs\")\n",
    "def etl_parent_web_gcs(year: int, months: list):\n",
    "    year = 2019\n",
    "    months = [2]\n",
    "\n",
    "    for month in months:\n",
    "        etl_web_gcs(year, month)\n",
    "\n",
    "\n",
    "# Run main\n",
    "if __name__ == \"__main__\":\n",
    "    etl_parent_web_gcs(year=2019, months=[2])\n"
   ]
  }
 ],
 "metadata": {
  "kernelspec": {
   "display_name": "base",
   "language": "python",
   "name": "python3"
  },
  "language_info": {
   "codemirror_mode": {
    "name": "ipython",
    "version": 3
   },
   "file_extension": ".py",
   "mimetype": "text/x-python",
   "name": "python",
   "nbconvert_exporter": "python",
   "pygments_lexer": "ipython3",
   "version": "3.9.15"
  },
  "orig_nbformat": 4,
  "vscode": {
   "interpreter": {
    "hash": "c6e4e9f98eb68ad3b7c296f83d20e6de614cb42e90992a65aa266555a3137d0d"
   }
  }
 },
 "nbformat": 4,
 "nbformat_minor": 2
}
